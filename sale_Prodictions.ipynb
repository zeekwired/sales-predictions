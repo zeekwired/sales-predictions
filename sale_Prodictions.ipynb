{
  "nbformat": 4,
  "nbformat_minor": 0,
  "metadata": {
    "colab": {
      "provenance": []
    },
    "kernelspec": {
      "name": "python3",
      "display_name": "Python 3"
    },
    "language_info": {
      "name": "python"
    }
  },
  "cells": [
    {
      "cell_type": "markdown",
      "source": [
        "# Project 1 - Part 1"
      ],
      "metadata": {
        "id": "qJKgHnitGXLO"
      }
    },
    {
      "cell_type": "markdown",
      "source": [
        "- Zach Dawson"
      ],
      "metadata": {
        "id": "42dpuWzwGh9d"
      }
    },
    {
      "cell_type": "code",
      "source": [],
      "metadata": {
        "id": "N5b9qMNYHHgo"
      },
      "execution_count": null,
      "outputs": []
    },
    {
      "cell_type": "markdown",
      "source": [
        "## Loading Data"
      ],
      "metadata": {
        "id": "bU96z391GpwQ"
      }
    },
    {
      "cell_type": "code",
      "source": [],
      "metadata": {
        "id": "tHDqnBp9HIPD"
      },
      "execution_count": null,
      "outputs": []
    },
    {
      "cell_type": "markdown",
      "source": [
        "## Data Cleaning"
      ],
      "metadata": {
        "id": "lw-qPKHiGv8R"
      }
    },
    {
      "cell_type": "code",
      "source": [],
      "metadata": {
        "id": "sHboX4cbHIq6"
      },
      "execution_count": null,
      "outputs": []
    },
    {
      "cell_type": "markdown",
      "source": [
        "## Exploratory Visuals"
      ],
      "metadata": {
        "id": "bqop2xOLG9rh"
      }
    },
    {
      "cell_type": "code",
      "source": [],
      "metadata": {
        "id": "yfQbHbcTHJMT"
      },
      "execution_count": null,
      "outputs": []
    },
    {
      "cell_type": "markdown",
      "source": [
        "## Exploratory Visuals"
      ],
      "metadata": {
        "id": "-5Ai5gBRG4gG"
      }
    },
    {
      "cell_type": "code",
      "source": [],
      "metadata": {
        "id": "Jvmf3z61HKRc"
      },
      "execution_count": null,
      "outputs": []
    }
  ]
}