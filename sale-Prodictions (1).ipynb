{
 "cells": [
  {
   "cell_type": "markdown",
   "metadata": {
    "id": "qJKgHnitGXLO",
    "tags": []
   },
   "source": [
    "# Sales Predictions & Insights\n",
    "## Analyzing Outlets and Outlets Types by Item Sales\n",
    "\n",
    "Zach Dawson\n",
    "\n",
    "When managing a business, it is often hard to keep track of sales when handling multiple stores. It can be difficult to predict how certain types of stores produce the most sales. This is the problem that is trying to be solved in this notebook.\n",
    "\n",
    "### Data Source:\n",
    "Big Mart Sales Predicition https://datahack.analyticsvidhya.com/contest/practice-problem-big-mart-sales-iii/\n",
    "\n",
    "### Data Dictionary\n",
    "\n",
    "|Variable Name\t| Description |\n",
    "|---------------|-------------|\n",
    "| Item_Identifier |\tUnique product ID |\n",
    "|Item_Weight |\tWeight of product |\n",
    "|Item_Fat_Content |\tWhether the product is low fat or regular |\n",
    "|Item_Visibility |\tThe percentage of total display area of all products in a store allocated to the particular product |\n",
    "|Item_Type |\tThe category to which the product belongs |\n",
    "|Item_MRP |\tMaximum Retail Price (list price) of the product |\n",
    "|Outlet_Identifier |\tUnique store ID |\n",
    "|Outlet_Establishment_Year | The year in which store was established |\n",
    "|Outlet_Size |\tThe size of the store in terms of ground area covered |\n",
    "|Outlet_Location_Type |\tThe type of area in which the store is located |\n",
    "|Outlet_Type |\tWhether the outlet is a grocery store or some sort of supermarket |\n",
    "|Item_Outlet_Sales |\tSales of the product in the particular store. This is the target variable to be predicted.  |"
   ]
  },
  {
   "cell_type": "markdown",
   "metadata": {},
   "source": [
    "1. Import all modules needed for this analysis."
   ]
  },
  {
   "cell_type": "markdown",
   "metadata": {
    "id": "XP5QmnZ4HROT"
   },
   "source": [
    "### Imports"
   ]
  },
  {
   "cell_type": "code",
   "execution_count": 74,
   "metadata": {
    "executionInfo": {
     "elapsed": 963,
     "status": "ok",
     "timestamp": 1670538989438,
     "user": {
      "displayName": "Zach Dawson",
      "userId": "16500949961388533552"
     },
     "user_tz": 360
    },
    "id": "_RtMAG-dHVEg"
   },
   "outputs": [],
   "source": [
    "# For data frames and arrays\n",
    "import pandas as pd\n",
    "import numpy as np\n",
    "# For creating visualization from data set\n",
    "import matplotlib.pyplot as plt\n",
    "import seaborn as sns\n",
    "from sklearn.metrics import ConfusionMatrixDisplay\n",
    "# For Machine Learning\n",
    "from sklearn.preprocessing import StandardScaler, OneHotEncoder\n",
    "from sklearn.impute import SimpleImputer\n",
    "from sklearn.compose import make_column_transformer, make_column_selector\n",
    "from sklearn.pipeline import make_pipeline\n",
    "from sklearn.model_selection import train_test_split\n",
    "# To visualize the model processing tree\n",
    "from sklearn import set_config\n",
    "set_config(display='diagram')"
   ]
  },
  {
   "cell_type": "markdown",
   "metadata": {
    "id": "bU96z391GpwQ"
   },
   "source": [
    "### Loading Data"
   ]
  },
  {
   "cell_type": "code",
   "execution_count": 75,
   "metadata": {
    "executionInfo": {
     "elapsed": 1889,
     "status": "ok",
     "timestamp": 1670538991317,
     "user": {
      "displayName": "Zach Dawson",
      "userId": "16500949961388533552"
     },
     "user_tz": 360
    },
    "id": "tHDqnBp9HIPD"
   },
   "outputs": [],
   "source": [
    "file_url = \"https://docs.google.com/spreadsheets/d/e/2PACX-1vRkIwH94EktrYdv19S1dFxJGuqxCb1kaXAwEKrePJOvMIlsq-bsf7OQiS4FKSgxwhb5Kb00BUFV1d14/pub?gid=834996468&single=true&output=csv\"\n",
    "df = pd.read_csv(file_url)"
   ]
  },
  {
   "cell_type": "markdown",
   "metadata": {},
   "source": [
    "### Getting DataFrame information"
   ]
  },
  {
   "cell_type": "code",
   "execution_count": 76,
   "metadata": {
    "colab": {
     "base_uri": "https://localhost:8080/"
    },
    "executionInfo": {
     "elapsed": 115,
     "status": "ok",
     "timestamp": 1670538991322,
     "user": {
      "displayName": "Zach Dawson",
      "userId": "16500949961388533552"
     },
     "user_tz": 360
    },
    "id": "5dkt6mmF2Fa-",
    "outputId": "3ffbd6e9-4291-4194-9340-e2123651f765"
   },
   "outputs": [
    {
     "name": "stdout",
     "output_type": "stream",
     "text": [
      "<class 'pandas.core.frame.DataFrame'>\n",
      "RangeIndex: 8523 entries, 0 to 8522\n",
      "Data columns (total 12 columns):\n",
      " #   Column                     Non-Null Count  Dtype  \n",
      "---  ------                     --------------  -----  \n",
      " 0   Item_Identifier            8523 non-null   object \n",
      " 1   Item_Weight                7060 non-null   float64\n",
      " 2   Item_Fat_Content           8523 non-null   object \n",
      " 3   Item_Visibility            8523 non-null   float64\n",
      " 4   Item_Type                  8523 non-null   object \n",
      " 5   Item_MRP                   8523 non-null   float64\n",
      " 6   Outlet_Identifier          8523 non-null   object \n",
      " 7   Outlet_Establishment_Year  8523 non-null   int64  \n",
      " 8   Outlet_Size                6113 non-null   object \n",
      " 9   Outlet_Location_Type       8523 non-null   object \n",
      " 10  Outlet_Type                8523 non-null   object \n",
      " 11  Item_Outlet_Sales          8523 non-null   float64\n",
      "dtypes: float64(4), int64(1), object(7)\n",
      "memory usage: 799.2+ KB\n"
     ]
    }
   ],
   "source": [
    "df.info()"
   ]
  },
  {
   "cell_type": "code",
   "execution_count": 77,
   "metadata": {
    "colab": {
     "base_uri": "https://localhost:8080/",
     "height": 206
    },
    "executionInfo": {
     "elapsed": 102,
     "status": "ok",
     "timestamp": 1670538991326,
     "user": {
      "displayName": "Zach Dawson",
      "userId": "16500949961388533552"
     },
     "user_tz": 360
    },
    "id": "FHyxkFZX2FA5",
    "outputId": "49a861ee-86af-4487-a1be-8f2cc2edcf3b"
   },
   "outputs": [
    {
     "data": {
      "text/html": [
       "<div>\n",
       "<style scoped>\n",
       "    .dataframe tbody tr th:only-of-type {\n",
       "        vertical-align: middle;\n",
       "    }\n",
       "\n",
       "    .dataframe tbody tr th {\n",
       "        vertical-align: top;\n",
       "    }\n",
       "\n",
       "    .dataframe thead th {\n",
       "        text-align: right;\n",
       "    }\n",
       "</style>\n",
       "<table border=\"1\" class=\"dataframe\">\n",
       "  <thead>\n",
       "    <tr style=\"text-align: right;\">\n",
       "      <th></th>\n",
       "      <th>Item_Identifier</th>\n",
       "      <th>Item_Weight</th>\n",
       "      <th>Item_Fat_Content</th>\n",
       "      <th>Item_Visibility</th>\n",
       "      <th>Item_Type</th>\n",
       "      <th>Item_MRP</th>\n",
       "      <th>Outlet_Identifier</th>\n",
       "      <th>Outlet_Establishment_Year</th>\n",
       "      <th>Outlet_Size</th>\n",
       "      <th>Outlet_Location_Type</th>\n",
       "      <th>Outlet_Type</th>\n",
       "      <th>Item_Outlet_Sales</th>\n",
       "    </tr>\n",
       "  </thead>\n",
       "  <tbody>\n",
       "    <tr>\n",
       "      <th>0</th>\n",
       "      <td>FDA15</td>\n",
       "      <td>9.30</td>\n",
       "      <td>Low Fat</td>\n",
       "      <td>0.016047</td>\n",
       "      <td>Dairy</td>\n",
       "      <td>249.8092</td>\n",
       "      <td>OUT049</td>\n",
       "      <td>1999</td>\n",
       "      <td>Medium</td>\n",
       "      <td>Tier 1</td>\n",
       "      <td>Supermarket Type1</td>\n",
       "      <td>3735.1380</td>\n",
       "    </tr>\n",
       "    <tr>\n",
       "      <th>1</th>\n",
       "      <td>DRC01</td>\n",
       "      <td>5.92</td>\n",
       "      <td>Regular</td>\n",
       "      <td>0.019278</td>\n",
       "      <td>Soft Drinks</td>\n",
       "      <td>48.2692</td>\n",
       "      <td>OUT018</td>\n",
       "      <td>2009</td>\n",
       "      <td>Medium</td>\n",
       "      <td>Tier 3</td>\n",
       "      <td>Supermarket Type2</td>\n",
       "      <td>443.4228</td>\n",
       "    </tr>\n",
       "    <tr>\n",
       "      <th>2</th>\n",
       "      <td>FDN15</td>\n",
       "      <td>17.50</td>\n",
       "      <td>Low Fat</td>\n",
       "      <td>0.016760</td>\n",
       "      <td>Meat</td>\n",
       "      <td>141.6180</td>\n",
       "      <td>OUT049</td>\n",
       "      <td>1999</td>\n",
       "      <td>Medium</td>\n",
       "      <td>Tier 1</td>\n",
       "      <td>Supermarket Type1</td>\n",
       "      <td>2097.2700</td>\n",
       "    </tr>\n",
       "    <tr>\n",
       "      <th>3</th>\n",
       "      <td>FDX07</td>\n",
       "      <td>19.20</td>\n",
       "      <td>Regular</td>\n",
       "      <td>0.000000</td>\n",
       "      <td>Fruits and Vegetables</td>\n",
       "      <td>182.0950</td>\n",
       "      <td>OUT010</td>\n",
       "      <td>1998</td>\n",
       "      <td>NaN</td>\n",
       "      <td>Tier 3</td>\n",
       "      <td>Grocery Store</td>\n",
       "      <td>732.3800</td>\n",
       "    </tr>\n",
       "    <tr>\n",
       "      <th>4</th>\n",
       "      <td>NCD19</td>\n",
       "      <td>8.93</td>\n",
       "      <td>Low Fat</td>\n",
       "      <td>0.000000</td>\n",
       "      <td>Household</td>\n",
       "      <td>53.8614</td>\n",
       "      <td>OUT013</td>\n",
       "      <td>1987</td>\n",
       "      <td>High</td>\n",
       "      <td>Tier 3</td>\n",
       "      <td>Supermarket Type1</td>\n",
       "      <td>994.7052</td>\n",
       "    </tr>\n",
       "  </tbody>\n",
       "</table>\n",
       "</div>"
      ],
      "text/plain": [
       "  Item_Identifier  Item_Weight Item_Fat_Content  Item_Visibility  \\\n",
       "0           FDA15         9.30          Low Fat         0.016047   \n",
       "1           DRC01         5.92          Regular         0.019278   \n",
       "2           FDN15        17.50          Low Fat         0.016760   \n",
       "3           FDX07        19.20          Regular         0.000000   \n",
       "4           NCD19         8.93          Low Fat         0.000000   \n",
       "\n",
       "               Item_Type  Item_MRP Outlet_Identifier  \\\n",
       "0                  Dairy  249.8092            OUT049   \n",
       "1            Soft Drinks   48.2692            OUT018   \n",
       "2                   Meat  141.6180            OUT049   \n",
       "3  Fruits and Vegetables  182.0950            OUT010   \n",
       "4              Household   53.8614            OUT013   \n",
       "\n",
       "   Outlet_Establishment_Year Outlet_Size Outlet_Location_Type  \\\n",
       "0                       1999      Medium               Tier 1   \n",
       "1                       2009      Medium               Tier 3   \n",
       "2                       1999      Medium               Tier 1   \n",
       "3                       1998         NaN               Tier 3   \n",
       "4                       1987        High               Tier 3   \n",
       "\n",
       "         Outlet_Type  Item_Outlet_Sales  \n",
       "0  Supermarket Type1          3735.1380  \n",
       "1  Supermarket Type2           443.4228  \n",
       "2  Supermarket Type1          2097.2700  \n",
       "3      Grocery Store           732.3800  \n",
       "4  Supermarket Type1           994.7052  "
      ]
     },
     "execution_count": 77,
     "metadata": {},
     "output_type": "execute_result"
    }
   ],
   "source": [
    "df.head()"
   ]
  },
  {
   "cell_type": "markdown",
   "metadata": {
    "id": "lw-qPKHiGv8R"
   },
   "source": [
    "### Data Cleaning"
   ]
  },
  {
   "cell_type": "code",
   "execution_count": 78,
   "metadata": {
    "colab": {
     "base_uri": "https://localhost:8080/"
    },
    "executionInfo": {
     "elapsed": 105,
     "status": "ok",
     "timestamp": 1670538991339,
     "user": {
      "displayName": "Zach Dawson",
      "userId": "16500949961388533552"
     },
     "user_tz": 360
    },
    "id": "6NFKTSa6G2CE",
    "outputId": "715f9816-bb8e-4ebf-c235-b8234a2f312d"
   },
   "outputs": [
    {
     "data": {
      "text/plain": [
       "(8523, 12)"
      ]
     },
     "execution_count": 78,
     "metadata": {},
     "output_type": "execute_result"
    }
   ],
   "source": [
    "# Checking for rows/columns\n",
    "df.shape"
   ]
  },
  {
   "cell_type": "markdown",
   "metadata": {},
   "source": [
    "- The dataset has 8,523 rows and 12 columns."
   ]
  },
  {
   "cell_type": "code",
   "execution_count": 79,
   "metadata": {
    "colab": {
     "base_uri": "https://localhost:8080/"
    },
    "executionInfo": {
     "elapsed": 95,
     "status": "ok",
     "timestamp": 1670538991343,
     "user": {
      "displayName": "Zach Dawson",
      "userId": "16500949961388533552"
     },
     "user_tz": 360
    },
    "id": "ufHQVk5BG7tJ",
    "outputId": "2bac41a5-6e5d-468e-9549-51c0b586507e"
   },
   "outputs": [
    {
     "data": {
      "text/plain": [
       "Item_Identifier               object\n",
       "Item_Weight                  float64\n",
       "Item_Fat_Content              object\n",
       "Item_Visibility              float64\n",
       "Item_Type                     object\n",
       "Item_MRP                     float64\n",
       "Outlet_Identifier             object\n",
       "Outlet_Establishment_Year      int64\n",
       "Outlet_Size                   object\n",
       "Outlet_Location_Type          object\n",
       "Outlet_Type                   object\n",
       "Item_Outlet_Sales            float64\n",
       "dtype: object"
      ]
     },
     "execution_count": 79,
     "metadata": {},
     "output_type": "execute_result"
    }
   ],
   "source": [
    "# Checking for data type of each column\n",
    "df.dtypes"
   ]
  },
  {
   "cell_type": "code",
   "execution_count": 80,
   "metadata": {
    "colab": {
     "base_uri": "https://localhost:8080/"
    },
    "executionInfo": {
     "elapsed": 92,
     "status": "ok",
     "timestamp": 1670538991348,
     "user": {
      "displayName": "Zach Dawson",
      "userId": "16500949961388533552"
     },
     "user_tz": 360
    },
    "id": "sHboX4cbHIq6",
    "outputId": "d3029b36-69a1-4aa0-cafc-4aaecd00946a"
   },
   "outputs": [
    {
     "data": {
      "text/plain": [
       "0"
      ]
     },
     "execution_count": 80,
     "metadata": {},
     "output_type": "execute_result"
    }
   ],
   "source": [
    "# checking for duplicates\n",
    "df.duplicated().sum()"
   ]
  },
  {
   "cell_type": "code",
   "execution_count": 81,
   "metadata": {
    "colab": {
     "base_uri": "https://localhost:8080/"
    },
    "executionInfo": {
     "elapsed": 87,
     "status": "ok",
     "timestamp": 1670538991354,
     "user": {
      "displayName": "Zach Dawson",
      "userId": "16500949961388533552"
     },
     "user_tz": 360
    },
    "id": "rr1U2DGX3f2a",
    "outputId": "afd792f7-4e44-4946-aa37-0e497f62e374"
   },
   "outputs": [
    {
     "data": {
      "text/plain": [
       "Item_Identifier                 0\n",
       "Item_Weight                  1463\n",
       "Item_Fat_Content                0\n",
       "Item_Visibility                 0\n",
       "Item_Type                       0\n",
       "Item_MRP                        0\n",
       "Outlet_Identifier               0\n",
       "Outlet_Establishment_Year       0\n",
       "Outlet_Size                  2410\n",
       "Outlet_Location_Type            0\n",
       "Outlet_Type                     0\n",
       "Item_Outlet_Sales               0\n",
       "dtype: int64"
      ]
     },
     "execution_count": 81,
     "metadata": {},
     "output_type": "execute_result"
    }
   ],
   "source": [
    "# Checking for NaN values\n",
    "df.isna().sum()"
   ]
  },
  {
   "cell_type": "markdown",
   "metadata": {},
   "source": [
    "- Before dropping columns or imputing missing values, I want to check the correlations between the features and the target variable."
   ]
  },
  {
   "cell_type": "code",
   "execution_count": 82,
   "metadata": {},
   "outputs": [
    {
     "data": {
      "text/plain": [
       "<AxesSubplot:>"
      ]
     },
     "execution_count": 82,
     "metadata": {},
     "output_type": "execute_result"
    },
    {
     "data": {
      "image/png": "[encoded data removed]",
      "text/plain": [
       "<Figure size 640x480 with 2 Axes>"
      ]
     },
     "metadata": {},
     "output_type": "display_data"
    }
   ],
   "source": [
    "# Creating a correlation matrix\n",
    "corr = df.corr()\n",
    "# Plotting correlation matrix with seaborns heatmap\n",
    "sns.heatmap(corr, annot=True, cmap='icefire')"
   ]
  },
  {
   "cell_type": "markdown",
   "metadata": {},
   "source": [
    "Now that we've defined the correlation between the target and the features, I will list and explain the steps that I will take into greater detail below:"
   ]
  },
  {
   "cell_type": "markdown",
   "metadata": {},
   "source": [
    "1. I will drop the columns:`'Item_Visibility'`, `'Outlet_Size'`, and `'Outlet_Establishment_Year'`."
   ]
  },
  {
   "cell_type": "code",
   "execution_count": 83,
   "metadata": {
    "colab": {
     "base_uri": "https://localhost:8080/"
    },
    "executionInfo": {
     "elapsed": 564,
     "status": "ok",
     "timestamp": 1670538991841,
     "user": {
      "displayName": "Zach Dawson",
      "userId": "16500949961388533552"
     },
     "user_tz": 360
    },
    "id": "ykHxhrSD3_kM",
    "outputId": "e4fea201-155c-4fe3-90fd-795c9f73fa2d"
   },
   "outputs": [
    {
     "data": {
      "text/plain": [
       "Item_Fat_Content        0\n",
       "Item_Type               0\n",
       "Item_MRP                0\n",
       "Outlet_Identifier       0\n",
       "Outlet_Location_Type    0\n",
       "Outlet_Type             0\n",
       "Item_Outlet_Sales       0\n",
       "dtype: int64"
      ]
     },
     "execution_count": 83,
     "metadata": {},
     "output_type": "execute_result"
    }
   ],
   "source": [
    "# Dropping \"Outlet_Size\" and \"Outlet_Establishment_Year\"  \n",
    "df.drop(columns=['Outlet_Size', 'Outlet_Establishment_Year', 'Item_Visibility', 'Item_Weight', 'Item_Identifier'], inplace=True)\n",
    "# Checking NaN values\n",
    "df.isna().sum()"
   ]
  },
  {
   "cell_type": "markdown",
   "metadata": {},
   "source": [
    "**Explaination:**\n",
    "> 1. For `'Outlet_Size'` the `.isna().sum()` statement above, told us that `'Outlet_Size'` has `2410 na values`. This means that more than 5% of the data set in `'Outlet_Size'` is missing. This is far too many missing values to impute without corrupting our future model results.\n",
    ">\n",
    "> 2. For `'Outlet_Established_Year'`, `'Item_Weight'`, `'Item_Identifier'` and `'Item_Visibilty'` the correlations between the target variable `'Outlet_Item_Sales'`. Both columns having very low correlations with our target variable, '`Outlet_Established_Year'`: `-0.049`, `'Item_Visibilty'`: `-0.13`. That means that dropping these columns would not affect our bias or variance for future modeling.\n",
    ">"
   ]
  },
  {
   "cell_type": "markdown",
   "metadata": {},
   "source": [
    "- **Note:** *Also, dropping the columns with missing values `'Item_Visibility'` and `'Outlet_Size'`. This is a conviance, mainly due to `'Item_Weight'`. Column `Item_Weight'` could have also imputed with `.median()` value to fill the empty rows in the column. However, since its corralation is low compare to `'Outlet_Item_Sales'` dropping the data will not have an affect on the future modeling. I wanted to point out tthat imputing column `'Item_Visibility'` was an option.*"
   ]
  },
  {
   "cell_type": "markdown",
   "metadata": {},
   "source": [
    "2. I will check for any inconsistency in the data set."
   ]
  },
  {
   "cell_type": "code",
   "execution_count": 84,
   "metadata": {
    "colab": {
     "base_uri": "https://localhost:8080/"
    },
    "executionInfo": {
     "elapsed": 117,
     "status": "ok",
     "timestamp": 1670538991858,
     "user": {
      "displayName": "Zach Dawson",
      "userId": "16500949961388533552"
     },
     "user_tz": 360
    },
    "id": "lpSVB08R9vm1",
    "outputId": "215a2669-d206-4e63-b6c0-1d88491a70a0"
   },
   "outputs": [
    {
     "data": {
      "text/plain": [
       "Item_Fat_Content           5\n",
       "Item_Type                 16\n",
       "Item_MRP                5938\n",
       "Outlet_Identifier         10\n",
       "Outlet_Location_Type       3\n",
       "Outlet_Type                4\n",
       "Item_Outlet_Sales       3493\n",
       "dtype: int64"
      ]
     },
     "execution_count": 84,
     "metadata": {},
     "output_type": "execute_result"
    }
   ],
   "source": [
    "# Checking for unique values \n",
    "df.nunique()"
   ]
  },
  {
   "cell_type": "markdown",
   "metadata": {},
   "source": [
    "Now I will create a for loop that iterate through each column and row that includes an `'object'` dtype."
   ]
  },
  {
   "cell_type": "code",
   "execution_count": 85,
   "metadata": {},
   "outputs": [
    {
     "name": "stdout",
     "output_type": "stream",
     "text": [
      "Low Fat    5089\n",
      "Regular    2889\n",
      "LF          316\n",
      "reg         117\n",
      "low fat     112\n",
      "Name: Item_Fat_Content, dtype: int64\n",
      "Fruits and Vegetables    1232\n",
      "Snack Foods              1200\n",
      "Household                 910\n",
      "Frozen Foods              856\n",
      "Dairy                     682\n",
      "Canned                    649\n",
      "Baking Goods              648\n",
      "Health and Hygiene        520\n",
      "Soft Drinks               445\n",
      "Meat                      425\n",
      "Breads                    251\n",
      "Hard Drinks               214\n",
      "Others                    169\n",
      "Starchy Foods             148\n",
      "Breakfast                 110\n",
      "Seafood                    64\n",
      "Name: Item_Type, dtype: int64\n",
      "OUT027    935\n",
      "OUT013    932\n",
      "OUT049    930\n",
      "OUT046    930\n",
      "OUT035    930\n",
      "OUT045    929\n",
      "OUT018    928\n",
      "OUT017    926\n",
      "OUT010    555\n",
      "OUT019    528\n",
      "Name: Outlet_Identifier, dtype: int64\n",
      "Tier 3    3350\n",
      "Tier 2    2785\n",
      "Tier 1    2388\n",
      "Name: Outlet_Location_Type, dtype: int64\n",
      "Supermarket Type1    5577\n",
      "Grocery Store        1083\n",
      "Supermarket Type3     935\n",
      "Supermarket Type2     928\n",
      "Name: Outlet_Type, dtype: int64\n"
     ]
    }
   ],
   "source": [
    "# Using for loop to check values of columns for inconsistencies in categorical data.\n",
    "df_c = df.copy()\n",
    "df_dtype = df_c.select_dtypes(include='object')\n",
    "\n",
    "for i in df_dtype.columns:\n",
    "    print(df_dtype[i].value_counts())"
   ]
  },
  {
   "cell_type": "markdown",
   "metadata": {},
   "source": [
    "Looking at the results column `'Item_Fat_Content'` has inconsistencies in the columns rows."
   ]
  },
  {
   "cell_type": "code",
   "execution_count": 113,
   "metadata": {
    "colab": {
     "base_uri": "https://localhost:8080/"
    },
    "executionInfo": {
     "elapsed": 104,
     "status": "ok",
     "timestamp": 1670538991871,
     "user": {
      "displayName": "Zach Dawson",
      "userId": "16500949961388533552"
     },
     "user_tz": 360
    },
    "id": "BeZFxV8QALbT",
    "outputId": "f7967915-0b4a-4891-be7e-982300079f62"
   },
   "outputs": [
    {
     "data": {
      "text/plain": [
       "Low Fat    5517\n",
       "Regular    3006\n",
       "Name: Item_Fat_Content, dtype: int64"
      ]
     },
     "execution_count": 113,
     "metadata": {},
     "output_type": "execute_result"
    }
   ],
   "source": [
    "# Fixing the inconsistenties in Item_Fat_Content\n",
    "df['Item_Fat_Content'] = df['Item_Fat_Content'].replace({'LF':'Low Fat', 'reg':'Regular', 'low fat':'Low Fat'})\n",
    "# Checking to see if the inconsistenties are fixed\n",
    "df['Item_Fat_Content'].value_counts()"
   ]
  },
  {
   "cell_type": "code",
   "execution_count": 114,
   "metadata": {
    "colab": {
     "base_uri": "https://localhost:8080/",
     "height": 143
    },
    "executionInfo": {
     "elapsed": 106,
     "status": "ok",
     "timestamp": 1670538991883,
     "user": {
      "displayName": "Zach Dawson",
      "userId": "16500949961388533552"
     },
     "user_tz": 360
    },
    "id": "9NH8KgaQC0rh",
    "outputId": "fb047c50-cc33-40c1-d34b-00626f5a029f"
   },
   "outputs": [
    {
     "data": {
      "text/html": [
       "<div>\n",
       "<style scoped>\n",
       "    .dataframe tbody tr th:only-of-type {\n",
       "        vertical-align: middle;\n",
       "    }\n",
       "\n",
       "    .dataframe tbody tr th {\n",
       "        vertical-align: top;\n",
       "    }\n",
       "\n",
       "    .dataframe thead th {\n",
       "        text-align: right;\n",
       "    }\n",
       "</style>\n",
       "<table border=\"1\" class=\"dataframe\">\n",
       "  <thead>\n",
       "    <tr style=\"text-align: right;\">\n",
       "      <th></th>\n",
       "      <th>Item_MRP</th>\n",
       "      <th>Item_Outlet_Sales</th>\n",
       "    </tr>\n",
       "  </thead>\n",
       "  <tbody>\n",
       "    <tr>\n",
       "      <th>min</th>\n",
       "      <td>31.29</td>\n",
       "      <td>33.29</td>\n",
       "    </tr>\n",
       "    <tr>\n",
       "      <th>max</th>\n",
       "      <td>266.89</td>\n",
       "      <td>13086.96</td>\n",
       "    </tr>\n",
       "    <tr>\n",
       "      <th>mean</th>\n",
       "      <td>140.99</td>\n",
       "      <td>2181.29</td>\n",
       "    </tr>\n",
       "  </tbody>\n",
       "</table>\n",
       "</div>"
      ],
      "text/plain": [
       "      Item_MRP  Item_Outlet_Sales\n",
       "min      31.29              33.29\n",
       "max     266.89           13086.96\n",
       "mean    140.99            2181.29"
      ]
     },
     "execution_count": 114,
     "metadata": {},
     "output_type": "execute_result"
    }
   ],
   "source": [
    "# Finding the min, max, and mean for every numeric column\n",
    "df.agg({\n",
    "    \"Item_MRP\": ['min', 'max', 'mean'],\n",
    "    \"Item_Outlet_Sales\": ['min', 'max', 'mean']\n",
    "}).round(2)"
   ]
  },
  {
   "cell_type": "markdown",
   "metadata": {
    "id": "bqop2xOLG9rh"
   },
   "source": [
    "### EDA (Exploratory Data Analysis)"
   ]
  },
  {
   "cell_type": "markdown",
   "metadata": {
    "id": "snZrv8-1XMA5"
   },
   "source": [
    "### Histogram"
   ]
  },
  {
   "cell_type": "markdown",
   "metadata": {
    "id": "I7u_zJb7XMA7"
   },
   "source": [
    "Checking the database to see what columns in the list could be used to visualize certain features in this database."
   ]
  },
  {
   "cell_type": "code",
   "execution_count": 88,
   "metadata": {
    "colab": {
     "base_uri": "https://localhost:8080/",
     "height": 206
    },
    "executionInfo": {
     "elapsed": 103,
     "status": "ok",
     "timestamp": 1670538991887,
     "user": {
      "displayName": "Zach Dawson",
      "userId": "16500949961388533552"
     },
     "user_tz": 360
    },
    "id": "Y-VngOjydSAL",
    "outputId": "045cdf40-d426-4b27-cb95-85bc35294473"
   },
   "outputs": [
    {
     "data": {
      "text/html": [
       "<div>\n",
       "<style scoped>\n",
       "    .dataframe tbody tr th:only-of-type {\n",
       "        vertical-align: middle;\n",
       "    }\n",
       "\n",
       "    .dataframe tbody tr th {\n",
       "        vertical-align: top;\n",
       "    }\n",
       "\n",
       "    .dataframe thead th {\n",
       "        text-align: right;\n",
       "    }\n",
       "</style>\n",
       "<table border=\"1\" class=\"dataframe\">\n",
       "  <thead>\n",
       "    <tr style=\"text-align: right;\">\n",
       "      <th></th>\n",
       "      <th>Item_Fat_Content</th>\n",
       "      <th>Item_Type</th>\n",
       "      <th>Item_MRP</th>\n",
       "      <th>Outlet_Identifier</th>\n",
       "      <th>Outlet_Location_Type</th>\n",
       "      <th>Outlet_Type</th>\n",
       "      <th>Item_Outlet_Sales</th>\n",
       "    </tr>\n",
       "  </thead>\n",
       "  <tbody>\n",
       "    <tr>\n",
       "      <th>0</th>\n",
       "      <td>Low Fat</td>\n",
       "      <td>Dairy</td>\n",
       "      <td>249.8092</td>\n",
       "      <td>OUT049</td>\n",
       "      <td>Tier 1</td>\n",
       "      <td>Supermarket Type1</td>\n",
       "      <td>3735.1380</td>\n",
       "    </tr>\n",
       "    <tr>\n",
       "      <th>1</th>\n",
       "      <td>Regular</td>\n",
       "      <td>Soft Drinks</td>\n",
       "      <td>48.2692</td>\n",
       "      <td>OUT018</td>\n",
       "      <td>Tier 3</td>\n",
       "      <td>Supermarket Type2</td>\n",
       "      <td>443.4228</td>\n",
       "    </tr>\n",
       "    <tr>\n",
       "      <th>2</th>\n",
       "      <td>Low Fat</td>\n",
       "      <td>Meat</td>\n",
       "      <td>141.6180</td>\n",
       "      <td>OUT049</td>\n",
       "      <td>Tier 1</td>\n",
       "      <td>Supermarket Type1</td>\n",
       "      <td>2097.2700</td>\n",
       "    </tr>\n",
       "    <tr>\n",
       "      <th>3</th>\n",
       "      <td>Regular</td>\n",
       "      <td>Fruits and Vegetables</td>\n",
       "      <td>182.0950</td>\n",
       "      <td>OUT010</td>\n",
       "      <td>Tier 3</td>\n",
       "      <td>Grocery Store</td>\n",
       "      <td>732.3800</td>\n",
       "    </tr>\n",
       "    <tr>\n",
       "      <th>4</th>\n",
       "      <td>Low Fat</td>\n",
       "      <td>Household</td>\n",
       "      <td>53.8614</td>\n",
       "      <td>OUT013</td>\n",
       "      <td>Tier 3</td>\n",
       "      <td>Supermarket Type1</td>\n",
       "      <td>994.7052</td>\n",
       "    </tr>\n",
       "  </tbody>\n",
       "</table>\n",
       "</div>"
      ],
      "text/plain": [
       "  Item_Fat_Content              Item_Type  Item_MRP Outlet_Identifier  \\\n",
       "0          Low Fat                  Dairy  249.8092            OUT049   \n",
       "1          Regular            Soft Drinks   48.2692            OUT018   \n",
       "2          Low Fat                   Meat  141.6180            OUT049   \n",
       "3          Regular  Fruits and Vegetables  182.0950            OUT010   \n",
       "4          Low Fat              Household   53.8614            OUT013   \n",
       "\n",
       "  Outlet_Location_Type        Outlet_Type  Item_Outlet_Sales  \n",
       "0               Tier 1  Supermarket Type1          3735.1380  \n",
       "1               Tier 3  Supermarket Type2           443.4228  \n",
       "2               Tier 1  Supermarket Type1          2097.2700  \n",
       "3               Tier 3      Grocery Store           732.3800  \n",
       "4               Tier 3  Supermarket Type1           994.7052  "
      ]
     },
     "execution_count": 88,
     "metadata": {},
     "output_type": "execute_result"
    }
   ],
   "source": [
    "df.head()"
   ]
  },
  {
   "cell_type": "markdown",
   "metadata": {
    "id": "Vv5_jIQRXMA_"
   },
   "source": [
    "- After analysing the data set I've concluded that I want to find the differences between item outlet sales by type."
   ]
  },
  {
   "cell_type": "markdown",
   "metadata": {
    "id": "z_kZGVhqXMBA"
   },
   "source": [
    "- Now I'm going to pick two outlets with different types to visualize the differences.\n",
    "    - `OUT049` (Supermarket Type 1)\n",
    "    - `OUT010` (Grocery Store)"
   ]
  },
  {
   "cell_type": "code",
   "execution_count": 115,
   "metadata": {
    "colab": {
     "base_uri": "https://localhost:8080/",
     "height": 282
    },
    "executionInfo": {
     "elapsed": 530,
     "status": "ok",
     "timestamp": 1670538992320,
     "user": {
      "displayName": "Zach Dawson",
      "userId": "16500949961388533552"
     },
     "user_tz": 360
    },
    "id": "yfQbHbcTHJMT",
    "outputId": "16be1209-d01b-418c-d9ac-6139f9a9734b"
   },
   "outputs": [
    {
     "data": {
      "image/png": "[encoded data removed]",
      "text/plain": [
       "<Figure size 640x480 with 1 Axes>"
      ]
     },
     "metadata": {},
     "output_type": "display_data"
    }
   ],
   "source": [
    "# Seeing the item sales from specified outlets.\n",
    "\n",
    "# Using style to improve visualization.\n",
    "plt.style.use('tableau-colorblind10')\n",
    "\n",
    "# Creating filters so that it only visualize specified outlets.\n",
    "df.loc[df['Outlet_Identifier'] == 'OUT049', 'Item_Outlet_Sales'].hist(bins='auto', edgecolor='black', facecolor='green', label='OUT049')\n",
    "df.loc[df['Outlet_Identifier'] == 'OUT010', 'Item_Outlet_Sales'].hist(bins='auto', edgecolor='black', alpha=0.5, facecolor='red', label='OUT010')\n",
    "# Using .legend() to identify outlets.\n",
    "plt.legend();"
   ]
  },
  {
   "cell_type": "markdown",
   "metadata": {
    "id": "gEhtFXFHXMBD"
   },
   "source": [
    "- After taking a look at this graph it is apparent that `OUT049` item sales reaches higher margins than `OUT010` sales. "
   ]
  },
  {
   "cell_type": "markdown",
   "metadata": {
    "id": "C5Tq9jmqXMBE"
   },
   "source": [
    "### Boxplot"
   ]
  },
  {
   "cell_type": "markdown",
   "metadata": {
    "id": "dqr2Ldz9XMBF"
   },
   "source": [
    "- Now I want to visualize the information regarding the mean, median, and mode of item sales of the specified outlets."
   ]
  },
  {
   "cell_type": "markdown",
   "metadata": {
    "id": "qFqV1Oo1XMBG"
   },
   "source": [
    "- We can accomplish this using `.boxplot()` to get this visualization.\n",
    "    - First we will create filters assigning them to variables `outlet_49` and `outlet_10`."
   ]
  },
  {
   "cell_type": "code",
   "execution_count": 90,
   "metadata": {
    "executionInfo": {
     "elapsed": 76,
     "status": "ok",
     "timestamp": 1670538992327,
     "user": {
      "displayName": "Zach Dawson",
      "userId": "16500949961388533552"
     },
     "user_tz": 360
    },
    "id": "cMJx8JvbXMBG"
   },
   "outputs": [],
   "source": [
    "# Creating filter to isolate OUT049 and OUT018 item sales. \n",
    "outlet_49 = df.loc[df['Outlet_Identifier']=='OUT049', 'Item_Outlet_Sales']\n",
    "outlet_10 = df.loc[df['Outlet_Identifier']=='OUT010', 'Item_Outlet_Sales']"
   ]
  },
  {
   "cell_type": "markdown",
   "metadata": {
    "id": "rBHCzqjtXMBI"
   },
   "source": [
    "- Next will create the `.boxplot()` and customizing it to make the visuals more appealing and easy to comprehend."
   ]
  },
  {
   "cell_type": "code",
   "execution_count": 91,
   "metadata": {
    "colab": {
     "base_uri": "https://localhost:8080/",
     "height": 454
    },
    "executionInfo": {
     "elapsed": 81,
     "status": "ok",
     "timestamp": 1670538992334,
     "user": {
      "displayName": "Zach Dawson",
      "userId": "16500949961388533552"
     },
     "user_tz": 360
    },
    "id": "5gJuG_qcj0Js",
    "outputId": "165ba58a-5878-4faf-b0d7-fa62f2b8a9b6"
   },
   "outputs": [
    {
     "data": {
      "image/png": "[encoded data removed]",
      "text/plain": [
       "<Figure size 700x600 with 1 Axes>"
      ]
     },
     "metadata": {},
     "output_type": "display_data"
    }
   ],
   "source": [
    "# Creating a boxplot to see to differences between two of the outlets of item_sales.\n",
    "\n",
    "# Using same style as histogram.\n",
    "with plt.style.context('tableau-colorblind10'):\n",
    "\n",
    "# Using a combination of MATLAB-Style and Object Syntax to configure boxplot.\n",
    "    fig, axes = plt.subplots(nrows=1, ncols=1, figsize=(7, 6))\n",
    "    boxplots = axes.boxplot([outlet_49, outlet_10],\n",
    "             notch=True,\n",
    "             labels=['OUT049', 'OUT010'],\n",
    "             widths=.3,\n",
    "             patch_artist=True,\n",
    "             medianprops=dict(linestyle='--', linewidth=2, color='Yellow'),\n",
    "             boxprops=dict(linestyle='-', linewidth=1, color='Black', facecolor='Green', alpha=0.5))\n",
    "    boxplot1 = boxplots['boxes'][0]\n",
    "    boxplot1.set_facecolor('red')\n",
    "    plt.xlabel('Oulets Compaired', fontsize=16)\n",
    "    plt.ylabel('Item Sales', fontsize=16)\n",
    "    plt.xticks(fontsize=12)\n",
    "    plt.yticks(fontsize=10)\n",
    "plt.show()"
   ]
  },
  {
   "cell_type": "markdown",
   "metadata": {
    "id": "VadAv_tlXMBL"
   },
   "source": [
    "- Looking at the visual above it is clear to see that `OUT049` has higher ranges and also salse but `OUT010` have more outliers as a result of the data given."
   ]
  },
  {
   "cell_type": "markdown",
   "metadata": {
    "id": "Fisc4eBDXMBN"
   },
   "source": [
    "### Heat map"
   ]
  },
  {
   "cell_type": "markdown",
   "metadata": {
    "id": "cvJmmFpsXMBO"
   },
   "source": [
    "- Now I want to see the correlation coefficiency between the features in this dataset.\n",
    "    - I will accomplish this by assigning `df.corr()` to the variable `corr` to get the correlations in the dataset.\n",
    "    - Next I will use seaborns `.heatmap()` to graph the correlations found in `corr`."
   ]
  },
  {
   "cell_type": "code",
   "execution_count": 92,
   "metadata": {
    "colab": {
     "base_uri": "https://localhost:8080/",
     "height": 392
    },
    "executionInfo": {
     "elapsed": 430,
     "status": "ok",
     "timestamp": 1670538992699,
     "user": {
      "displayName": "Zach Dawson",
      "userId": "16500949961388533552"
     },
     "user_tz": 360
    },
    "id": "3WYEKOILXMBP",
    "outputId": "6a713029-e26e-4aa3-8aa0-3d00804121ed"
   },
   "outputs": [
    {
     "data": {
      "image/png": "[encoded data removed]",
      "text/plain": [
       "<Figure size 640x480 with 2 Axes>"
      ]
     },
     "metadata": {},
     "output_type": "display_data"
    }
   ],
   "source": [
    "# Creating a heatmap.\n",
    "corr = df.corr()\n",
    "\n",
    "# I choose to keep the default style of seaborns heat map because I find that the style is already visually appealing.\n",
    "# I did change the linecolor and linewidths to make the data in the heat map stand out.\n",
    "ax = sns.heatmap(corr, annot=True, linecolor='White', linewidths=.7)"
   ]
  },
  {
   "cell_type": "markdown",
   "metadata": {
    "id": "YoOb69JIXMBR"
   },
   "source": [
    "- After reviewing this heat map, the only two positive correltations present are, the columns positive correlation with themselves, and the positive correlation between `Item_MRP` and `Item_Outlet_Sales` (which is considered a `\"moderate\"` correlation being between 0.5 and 0.7). "
   ]
  },
  {
   "cell_type": "markdown",
   "metadata": {
    "id": "o_ezw0YnXMBT"
   },
   "source": [
    "- To dive deeper into analizing this data we need to ask questions that stockholders may have about our analysis."
   ]
  },
  {
   "cell_type": "markdown",
   "metadata": {
    "id": "HuaqXQR9XMBU"
   },
   "source": [
    "### Questions\n",
    "1. What outlet has the most item sales?\n",
    "2. What type of outlet has the most item sales?\n",
    "3. Does location type have an affect on item sales?\n",
    "4. Does item type affect the outlet item sales?\n",
    "5. What outlet tier has the most item sales?"
   ]
  },
  {
   "cell_type": "code",
   "execution_count": 93,
   "metadata": {
    "colab": {
     "base_uri": "https://localhost:8080/"
    },
    "executionInfo": {
     "elapsed": 30,
     "status": "ok",
     "timestamp": 1670538992703,
     "user": {
      "displayName": "Zach Dawson",
      "userId": "16500949961388533552"
     },
     "user_tz": 360
    },
    "id": "Jvmf3z61HKRc",
    "outputId": "c0a274ab-d4cd-4ee1-acde-a303a2cd4f43"
   },
   "outputs": [
    {
     "name": "stdout",
     "output_type": "stream",
     "text": [
      "<class 'pandas.core.frame.DataFrame'>\n",
      "RangeIndex: 8523 entries, 0 to 8522\n",
      "Data columns (total 7 columns):\n",
      " #   Column                Non-Null Count  Dtype  \n",
      "---  ------                --------------  -----  \n",
      " 0   Item_Fat_Content      8523 non-null   object \n",
      " 1   Item_Type             8523 non-null   object \n",
      " 2   Item_MRP              8523 non-null   float64\n",
      " 3   Outlet_Identifier     8523 non-null   object \n",
      " 4   Outlet_Location_Type  8523 non-null   object \n",
      " 5   Outlet_Type           8523 non-null   object \n",
      " 6   Item_Outlet_Sales     8523 non-null   float64\n",
      "dtypes: float64(2), object(5)\n",
      "memory usage: 466.2+ KB\n"
     ]
    }
   ],
   "source": [
    "# First we will check the data types of each column\n",
    "df.info()"
   ]
  },
  {
   "cell_type": "markdown",
   "metadata": {
    "id": "ew1y8Gy6XMBW"
   },
   "source": [
    "1. What outlet has the most item sales and what is the most common range for item sales?\n"
   ]
  },
  {
   "cell_type": "code",
   "execution_count": 94,
   "metadata": {},
   "outputs": [
    {
     "data": {
      "text/plain": [
       "Outlet_Identifier\n",
       "OUT027    3453926.05\n",
       "OUT035    2268122.94\n",
       "OUT049    2183969.81\n",
       "OUT017    2167465.29\n",
       "OUT013    2142663.58\n",
       "OUT046    2118395.17\n",
       "OUT045    2036725.48\n",
       "OUT018    1851822.83\n",
       "OUT010     188340.17\n",
       "OUT019     179694.09\n",
       "Name: Item_Outlet_Sales, dtype: float64"
      ]
     },
     "execution_count": 94,
     "metadata": {},
     "output_type": "execute_result"
    }
   ],
   "source": [
    "# grouping outlets by item sales to see the highest earner\n",
    "means = df.groupby('Outlet_Identifier')['Item_Outlet_Sales'].sum().sort_values(ascending=False).round(2)\n",
    "means"
   ]
  },
  {
   "cell_type": "code",
   "execution_count": 95,
   "metadata": {
    "colab": {
     "base_uri": "https://localhost:8080/",
     "height": 585
    },
    "executionInfo": {
     "elapsed": 1033,
     "status": "ok",
     "timestamp": 1670539945174,
     "user": {
      "displayName": "Zach Dawson",
      "userId": "16500949961388533552"
     },
     "user_tz": 360
    },
    "id": "pIJkJVSfNjFS",
    "outputId": "0147a6b7-4593-4716-9ddb-286e3e0c3c17"
   },
   "outputs": [
    {
     "data": {
      "image/png": "[encoded data removed]",
      "text/plain": [
       "<Figure size 1500x800 with 1 Axes>"
      ]
     },
     "metadata": {},
     "output_type": "display_data"
    }
   ],
   "source": [
    "# setting style for barplot\n",
    "with plt.style.context(['seaborn-muted', 'seaborn-poster', 'dark_background']):\n",
    "  # setting fig size\n",
    "  plt.figure(figsize=(15,8))\n",
    "  # Creating barplot\n",
    "  sns.barplot(x=means.index, \n",
    "              y=means.values, hue=means.index, \n",
    "              order=means.index, \n",
    "              dodge=False, \n",
    "              edgecolor='white', \n",
    "              linewidth=1.5, \n",
    "              ci=False, \n",
    "              palette='icefire')\n",
    "  # Setting x & y ticks\n",
    "  plt.xticks(fontsize=10)\n",
    "  plt.yticks(fontsize=10)\n",
    "  # Setting x & y labels\n",
    "  plt.ylabel('Item Total Sales Per Outlet', fontsize=20)\n",
    "  plt.xlabel('Outlet ID', fontsize=20)\n",
    "  plt.ticklabel_format(style='plain', axis='y')\n",
    "  # Seting legend, grid, title, and tight_layout\n",
    "  plt.legend(bbox_to_anchor=(1,1), title='Outlets ID')\n",
    "  plt.title('Item Total Sales for Each Outlet', fontweight='bold', fontsize=25)\n",
    "  plt.grid(color='w', alpha=0.2)\n",
    "  plt.tight_layout()\n",
    "plt.show()"
   ]
  },
  {
   "cell_type": "markdown",
   "metadata": {
    "id": "tsyf_tEV8Ne_"
   },
   "source": [
    "- Looking at the barplot, the highest earning outlet is `OUT027`. Note, that most outlets are in between range 2,000 and 2,500. This means that most outlets have around the same item sales."
   ]
  },
  {
   "cell_type": "markdown",
   "metadata": {
    "id": "OxfR1o-47B8_"
   },
   "source": [
    "2. What type of outlet has the most item sales?"
   ]
  },
  {
   "cell_type": "code",
   "execution_count": 96,
   "metadata": {
    "colab": {
     "base_uri": "https://localhost:8080/",
     "height": 585
    },
    "executionInfo": {
     "elapsed": 428,
     "status": "ok",
     "timestamp": 1670539948636,
     "user": {
      "displayName": "Zach Dawson",
      "userId": "16500949961388533552"
     },
     "user_tz": 360
    },
    "id": "h96ZbkGne9h6",
    "outputId": "24bb3205-3498-4ac4-95dd-dac5bfb5375f"
   },
   "outputs": [
    {
     "data": {
      "image/png": "[encoded data removed]",
      "text/plain": [
       "<Figure size 1500x800 with 1 Axes>"
      ]
     },
     "metadata": {},
     "output_type": "display_data"
    }
   ],
   "source": [
    "# Setting style for histplot\n",
    "with plt.style.context(['seaborn-muted', 'seaborn-poster']):\n",
    "  # Setting fig size\n",
    "  plt.figure(figsize=(15, 8))\n",
    "  # Creating histplot OOP style\n",
    "  ax = sns.histplot(data=df, \n",
    "              x='Item_Outlet_Sales',\n",
    "              y='Outlet_Type', \n",
    "              hue = 'Outlet_Type', \n",
    "              palette='icefire_r', \n",
    "              bins='auto',\n",
    "              element='bars',\n",
    "              multiple='dodge')\n",
    "\n",
    "  sns.move_legend(ax, 'upper left',bbox_to_anchor=(1,1))\n",
    "  # Setting x & y labels\n",
    "  ax.set_xlabel('Item Total Sales', fontsize=20)\n",
    "  ax.set_ylabel('Outlet Types', fontsize=20)\n",
    "  # Setting title\n",
    "  ax.set_title('Item Total Sales by Outlet Type', fontsize=25, fontweight='bold')\n",
    "  # Setting grid & tight_layout\n",
    "  plt.grid(color='black', alpha=0.2)\n",
    "  plt.tight_layout()\n",
    "plt.show()"
   ]
  },
  {
   "cell_type": "markdown",
   "metadata": {},
   "source": [
    "3. Does location type have an affect on item sales?"
   ]
  },
  {
   "cell_type": "code",
   "execution_count": 121,
   "metadata": {},
   "outputs": [
    {
     "data": {
      "text/html": [
       "<div>\n",
       "<style scoped>\n",
       "    .dataframe tbody tr th:only-of-type {\n",
       "        vertical-align: middle;\n",
       "    }\n",
       "\n",
       "    .dataframe tbody tr th {\n",
       "        vertical-align: top;\n",
       "    }\n",
       "\n",
       "    .dataframe thead th {\n",
       "        text-align: right;\n",
       "    }\n",
       "</style>\n",
       "<table border=\"1\" class=\"dataframe\">\n",
       "  <thead>\n",
       "    <tr style=\"text-align: right;\">\n",
       "      <th></th>\n",
       "      <th>Item_Fat_Content</th>\n",
       "      <th>Item_Type</th>\n",
       "      <th>Item_MRP</th>\n",
       "      <th>Outlet_Identifier</th>\n",
       "      <th>Outlet_Location_Type</th>\n",
       "      <th>Outlet_Type</th>\n",
       "      <th>Item_Outlet_Sales</th>\n",
       "    </tr>\n",
       "  </thead>\n",
       "  <tbody>\n",
       "    <tr>\n",
       "      <th>0</th>\n",
       "      <td>Low Fat</td>\n",
       "      <td>Dairy</td>\n",
       "      <td>249.8092</td>\n",
       "      <td>OUT049</td>\n",
       "      <td>Tier 1</td>\n",
       "      <td>Supermarket Type1</td>\n",
       "      <td>3735.1380</td>\n",
       "    </tr>\n",
       "    <tr>\n",
       "      <th>4073</th>\n",
       "      <td>Regular</td>\n",
       "      <td>Frozen Foods</td>\n",
       "      <td>155.2630</td>\n",
       "      <td>OUT049</td>\n",
       "      <td>Tier 1</td>\n",
       "      <td>Supermarket Type1</td>\n",
       "      <td>625.8520</td>\n",
       "    </tr>\n",
       "    <tr>\n",
       "      <th>4082</th>\n",
       "      <td>Regular</td>\n",
       "      <td>Baking Goods</td>\n",
       "      <td>97.2042</td>\n",
       "      <td>OUT046</td>\n",
       "      <td>Tier 1</td>\n",
       "      <td>Supermarket Type1</td>\n",
       "      <td>1686.4714</td>\n",
       "    </tr>\n",
       "    <tr>\n",
       "      <th>4085</th>\n",
       "      <td>Regular</td>\n",
       "      <td>Frozen Foods</td>\n",
       "      <td>161.9210</td>\n",
       "      <td>OUT049</td>\n",
       "      <td>Tier 1</td>\n",
       "      <td>Supermarket Type1</td>\n",
       "      <td>2120.5730</td>\n",
       "    </tr>\n",
       "    <tr>\n",
       "      <th>4087</th>\n",
       "      <td>Regular</td>\n",
       "      <td>Frozen Foods</td>\n",
       "      <td>228.4668</td>\n",
       "      <td>OUT049</td>\n",
       "      <td>Tier 1</td>\n",
       "      <td>Supermarket Type1</td>\n",
       "      <td>3916.2356</td>\n",
       "    </tr>\n",
       "  </tbody>\n",
       "</table>\n",
       "</div>"
      ],
      "text/plain": [
       "     Item_Fat_Content     Item_Type  Item_MRP Outlet_Identifier  \\\n",
       "0             Low Fat         Dairy  249.8092            OUT049   \n",
       "4073          Regular  Frozen Foods  155.2630            OUT049   \n",
       "4082          Regular  Baking Goods   97.2042            OUT046   \n",
       "4085          Regular  Frozen Foods  161.9210            OUT049   \n",
       "4087          Regular  Frozen Foods  228.4668            OUT049   \n",
       "\n",
       "     Outlet_Location_Type        Outlet_Type  Item_Outlet_Sales  \n",
       "0                  Tier 1  Supermarket Type1          3735.1380  \n",
       "4073               Tier 1  Supermarket Type1           625.8520  \n",
       "4082               Tier 1  Supermarket Type1          1686.4714  \n",
       "4085               Tier 1  Supermarket Type1          2120.5730  \n",
       "4087               Tier 1  Supermarket Type1          3916.2356  "
      ]
     },
     "execution_count": 121,
     "metadata": {},
     "output_type": "execute_result"
    }
   ],
   "source": [
    "df_sorted = df.sort_values(by='Outlet_Location_Type')\n",
    "df_sorted.head()"
   ]
  },
  {
   "cell_type": "markdown",
   "metadata": {},
   "source": [
    "# *Will be continued*"
   ]
  },
  {
   "cell_type": "code",
   "execution_count": 127,
   "metadata": {
    "scrolled": false
   },
   "outputs": [],
   "source": [
    "#with plt.style.context(['seaborn-muted', 'dark_background']):\n",
    " #   sns.barplot(data=df, x=range(0,int(df['Item_Outlet_Sales'].sum()), y='Outlet_Location_Type' ,hue='Outlet_Location_Type')"
   ]
  },
  {
   "cell_type": "markdown",
   "metadata": {},
   "source": [
    "## Project 1-Part 5"
   ]
  },
  {
   "cell_type": "markdown",
   "metadata": {},
   "source": [
    "### Setting up dataframe before Machine Learning"
   ]
  },
  {
   "cell_type": "markdown",
   "metadata": {},
   "source": [
    "- Splitting data to prepare for Machine Learning."
   ]
  },
  {
   "cell_type": "code",
   "execution_count": 97,
   "metadata": {},
   "outputs": [],
   "source": [
    "# Setting target (Item_Outlet_Sales) and features\n",
    "X = df.drop(columns='Item_Outlet_Sales')\n",
    "y = df['Item_Outlet_Sales']\n",
    "\n",
    "X_train, X_test, y_train, y_test = train_test_split(X, y, random_state=42)"
   ]
  },
  {
   "cell_type": "code",
   "execution_count": 98,
   "metadata": {},
   "outputs": [],
   "source": [
    "# Making selectors\n",
    "num_selector = make_column_selector(dtype_include='number')\n",
    "cat_selector = make_column_selector(dtype_include='object')"
   ]
  },
  {
   "cell_type": "code",
   "execution_count": 99,
   "metadata": {},
   "outputs": [],
   "source": [
    "# Making imputers\n",
    "freq_imputer = SimpleImputer(strategy='most_frequent')\n",
    "mean_imputer = SimpleImputer(strategy='mean')\n",
    "# Making Scaler\n",
    "scaler = StandardScaler()\n",
    "# Making One-hot encoder\n",
    "ohe = OneHotEncoder(handle_unknown='ignore', sparse=False)"
   ]
  },
  {
   "cell_type": "code",
   "execution_count": 100,
   "metadata": {},
   "outputs": [],
   "source": [
    "# Making pipelines\n",
    "num_pipe = make_pipeline(mean_imputer, scaler)\n",
    "cat_pipe = make_pipeline(freq_imputer, ohe)"
   ]
  },
  {
   "cell_type": "code",
   "execution_count": 101,
   "metadata": {},
   "outputs": [
    {
     "data": {
      "text/html": [
       "<style>#sk-1e1f16a3-0f37-499f-8939-b8a52098e0f4 {color: black;background-color: white;}#sk-1e1f16a3-0f37-499f-8939-b8a52098e0f4 pre{padding: 0;}#sk-1e1f16a3-0f37-499f-8939-b8a52098e0f4 div.sk-toggleable {background-color: white;}#sk-1e1f16a3-0f37-499f-8939-b8a52098e0f4 label.sk-toggleable__label {cursor: pointer;display: block;width: 100%;margin-bottom: 0;padding: 0.3em;box-sizing: border-box;text-align: center;}#sk-1e1f16a3-0f37-499f-8939-b8a52098e0f4 label.sk-toggleable__label-arrow:before {content: \"▸\";float: left;margin-right: 0.25em;color: #696969;}#sk-1e1f16a3-0f37-499f-8939-b8a52098e0f4 label.sk-toggleable__label-arrow:hover:before {color: black;}#sk-1e1f16a3-0f37-499f-8939-b8a52098e0f4 div.sk-estimator:hover label.sk-toggleable__label-arrow:before {color: black;}#sk-1e1f16a3-0f37-499f-8939-b8a52098e0f4 div.sk-toggleable__content {max-height: 0;max-width: 0;overflow: hidden;text-align: left;background-color: #f0f8ff;}#sk-1e1f16a3-0f37-499f-8939-b8a52098e0f4 div.sk-toggleable__content pre {margin: 0.2em;color: black;border-radius: 0.25em;background-color: #f0f8ff;}#sk-1e1f16a3-0f37-499f-8939-b8a52098e0f4 input.sk-toggleable__control:checked~div.sk-toggleable__content {max-height: 200px;max-width: 100%;overflow: auto;}#sk-1e1f16a3-0f37-499f-8939-b8a52098e0f4 input.sk-toggleable__control:checked~label.sk-toggleable__label-arrow:before {content: \"▾\";}#sk-1e1f16a3-0f37-499f-8939-b8a52098e0f4 div.sk-estimator input.sk-toggleable__control:checked~label.sk-toggleable__label {background-color: #d4ebff;}#sk-1e1f16a3-0f37-499f-8939-b8a52098e0f4 div.sk-label input.sk-toggleable__control:checked~label.sk-toggleable__label {background-color: #d4ebff;}#sk-1e1f16a3-0f37-499f-8939-b8a52098e0f4 input.sk-hidden--visually {border: 0;clip: rect(1px 1px 1px 1px);clip: rect(1px, 1px, 1px, 1px);height: 1px;margin: -1px;overflow: hidden;padding: 0;position: absolute;width: 1px;}#sk-1e1f16a3-0f37-499f-8939-b8a52098e0f4 div.sk-estimator {font-family: monospace;background-color: #f0f8ff;border: 1px dotted black;border-radius: 0.25em;box-sizing: border-box;margin-bottom: 0.5em;}#sk-1e1f16a3-0f37-499f-8939-b8a52098e0f4 div.sk-estimator:hover {background-color: #d4ebff;}#sk-1e1f16a3-0f37-499f-8939-b8a52098e0f4 div.sk-parallel-item::after {content: \"\";width: 100%;border-bottom: 1px solid gray;flex-grow: 1;}#sk-1e1f16a3-0f37-499f-8939-b8a52098e0f4 div.sk-label:hover label.sk-toggleable__label {background-color: #d4ebff;}#sk-1e1f16a3-0f37-499f-8939-b8a52098e0f4 div.sk-serial::before {content: \"\";position: absolute;border-left: 1px solid gray;box-sizing: border-box;top: 2em;bottom: 0;left: 50%;}#sk-1e1f16a3-0f37-499f-8939-b8a52098e0f4 div.sk-serial {display: flex;flex-direction: column;align-items: center;background-color: white;padding-right: 0.2em;padding-left: 0.2em;}#sk-1e1f16a3-0f37-499f-8939-b8a52098e0f4 div.sk-item {z-index: 1;}#sk-1e1f16a3-0f37-499f-8939-b8a52098e0f4 div.sk-parallel {display: flex;align-items: stretch;justify-content: center;background-color: white;}#sk-1e1f16a3-0f37-499f-8939-b8a52098e0f4 div.sk-parallel::before {content: \"\";position: absolute;border-left: 1px solid gray;box-sizing: border-box;top: 2em;bottom: 0;left: 50%;}#sk-1e1f16a3-0f37-499f-8939-b8a52098e0f4 div.sk-parallel-item {display: flex;flex-direction: column;position: relative;background-color: white;}#sk-1e1f16a3-0f37-499f-8939-b8a52098e0f4 div.sk-parallel-item:first-child::after {align-self: flex-end;width: 50%;}#sk-1e1f16a3-0f37-499f-8939-b8a52098e0f4 div.sk-parallel-item:last-child::after {align-self: flex-start;width: 50%;}#sk-1e1f16a3-0f37-499f-8939-b8a52098e0f4 div.sk-parallel-item:only-child::after {width: 0;}#sk-1e1f16a3-0f37-499f-8939-b8a52098e0f4 div.sk-dashed-wrapped {border: 1px dashed gray;margin: 0 0.4em 0.5em 0.4em;box-sizing: border-box;padding-bottom: 0.4em;background-color: white;position: relative;}#sk-1e1f16a3-0f37-499f-8939-b8a52098e0f4 div.sk-label label {font-family: monospace;font-weight: bold;background-color: white;display: inline-block;line-height: 1.2em;}#sk-1e1f16a3-0f37-499f-8939-b8a52098e0f4 div.sk-label-container {position: relative;z-index: 2;text-align: center;}#sk-1e1f16a3-0f37-499f-8939-b8a52098e0f4 div.sk-container {/* jupyter's `normalize.less` sets `[hidden] { display: none; }` but bootstrap.min.css set `[hidden] { display: none !important; }` so we also need the `!important` here to be able to override the default hidden behavior on the sphinx rendered scikit-learn.org. See: https://github.com/scikit-learn/scikit-learn/issues/21755 */display: inline-block !important;position: relative;}#sk-1e1f16a3-0f37-499f-8939-b8a52098e0f4 div.sk-text-repr-fallback {display: none;}</style><div id=\"sk-1e1f16a3-0f37-499f-8939-b8a52098e0f4\" class=\"sk-top-container\"><div class=\"sk-text-repr-fallback\"><pre>ColumnTransformer(transformers=[(&#x27;pipeline-1&#x27;,\n",
       "                                 Pipeline(steps=[(&#x27;simpleimputer&#x27;,\n",
       "                                                  SimpleImputer()),\n",
       "                                                 (&#x27;standardscaler&#x27;,\n",
       "                                                  StandardScaler())]),\n",
       "                                 &lt;sklearn.compose._column_transformer.make_column_selector object at 0x7f8afc3e24f0&gt;),\n",
       "                                (&#x27;pipeline-2&#x27;,\n",
       "                                 Pipeline(steps=[(&#x27;simpleimputer&#x27;,\n",
       "                                                  SimpleImputer(strategy=&#x27;most_frequent&#x27;)),\n",
       "                                                 (&#x27;onehotencoder&#x27;,\n",
       "                                                  OneHotEncoder(handle_unknown=&#x27;ignore&#x27;,\n",
       "                                                                sparse=False))]),\n",
       "                                 &lt;sklearn.compose._column_transformer.make_column_selector object at 0x7f8afc3e2fd0&gt;)])</pre><b>Please rerun this cell to show the HTML repr or trust the notebook.</b></div><div class=\"sk-container\" hidden><div class=\"sk-item sk-dashed-wrapped\"><div class=\"sk-label-container\"><div class=\"sk-label sk-toggleable\"><input class=\"sk-toggleable__control sk-hidden--visually\" id=\"3c3c64ca-ea29-4a57-b727-53d92327d058\" type=\"checkbox\" ><label for=\"3c3c64ca-ea29-4a57-b727-53d92327d058\" class=\"sk-toggleable__label sk-toggleable__label-arrow\">ColumnTransformer</label><div class=\"sk-toggleable__content\"><pre>ColumnTransformer(transformers=[(&#x27;pipeline-1&#x27;,\n",
       "                                 Pipeline(steps=[(&#x27;simpleimputer&#x27;,\n",
       "                                                  SimpleImputer()),\n",
       "                                                 (&#x27;standardscaler&#x27;,\n",
       "                                                  StandardScaler())]),\n",
       "                                 &lt;sklearn.compose._column_transformer.make_column_selector object at 0x7f8afc3e24f0&gt;),\n",
       "                                (&#x27;pipeline-2&#x27;,\n",
       "                                 Pipeline(steps=[(&#x27;simpleimputer&#x27;,\n",
       "                                                  SimpleImputer(strategy=&#x27;most_frequent&#x27;)),\n",
       "                                                 (&#x27;onehotencoder&#x27;,\n",
       "                                                  OneHotEncoder(handle_unknown=&#x27;ignore&#x27;,\n",
       "                                                                sparse=False))]),\n",
       "                                 &lt;sklearn.compose._column_transformer.make_column_selector object at 0x7f8afc3e2fd0&gt;)])</pre></div></div></div><div class=\"sk-parallel\"><div class=\"sk-parallel-item\"><div class=\"sk-item\"><div class=\"sk-label-container\"><div class=\"sk-label sk-toggleable\"><input class=\"sk-toggleable__control sk-hidden--visually\" id=\"a13faae3-51ff-49de-a946-d17107fcb636\" type=\"checkbox\" ><label for=\"a13faae3-51ff-49de-a946-d17107fcb636\" class=\"sk-toggleable__label sk-toggleable__label-arrow\">pipeline-1</label><div class=\"sk-toggleable__content\"><pre>&lt;sklearn.compose._column_transformer.make_column_selector object at 0x7f8afc3e24f0&gt;</pre></div></div></div><div class=\"sk-serial\"><div class=\"sk-item\"><div class=\"sk-serial\"><div class=\"sk-item\"><div class=\"sk-estimator sk-toggleable\"><input class=\"sk-toggleable__control sk-hidden--visually\" id=\"c33056e1-6778-4982-ae68-e2e9efc02896\" type=\"checkbox\" ><label for=\"c33056e1-6778-4982-ae68-e2e9efc02896\" class=\"sk-toggleable__label sk-toggleable__label-arrow\">SimpleImputer</label><div class=\"sk-toggleable__content\"><pre>SimpleImputer()</pre></div></div></div><div class=\"sk-item\"><div class=\"sk-estimator sk-toggleable\"><input class=\"sk-toggleable__control sk-hidden--visually\" id=\"3d4e7e30-0a37-467f-974b-067386349399\" type=\"checkbox\" ><label for=\"3d4e7e30-0a37-467f-974b-067386349399\" class=\"sk-toggleable__label sk-toggleable__label-arrow\">StandardScaler</label><div class=\"sk-toggleable__content\"><pre>StandardScaler()</pre></div></div></div></div></div></div></div></div><div class=\"sk-parallel-item\"><div class=\"sk-item\"><div class=\"sk-label-container\"><div class=\"sk-label sk-toggleable\"><input class=\"sk-toggleable__control sk-hidden--visually\" id=\"1cc3644b-8c87-440a-b2c7-35d3c0498fcb\" type=\"checkbox\" ><label for=\"1cc3644b-8c87-440a-b2c7-35d3c0498fcb\" class=\"sk-toggleable__label sk-toggleable__label-arrow\">pipeline-2</label><div class=\"sk-toggleable__content\"><pre>&lt;sklearn.compose._column_transformer.make_column_selector object at 0x7f8afc3e2fd0&gt;</pre></div></div></div><div class=\"sk-serial\"><div class=\"sk-item\"><div class=\"sk-serial\"><div class=\"sk-item\"><div class=\"sk-estimator sk-toggleable\"><input class=\"sk-toggleable__control sk-hidden--visually\" id=\"358c565b-4aaf-4588-ad78-e6f9b5adffc1\" type=\"checkbox\" ><label for=\"358c565b-4aaf-4588-ad78-e6f9b5adffc1\" class=\"sk-toggleable__label sk-toggleable__label-arrow\">SimpleImputer</label><div class=\"sk-toggleable__content\"><pre>SimpleImputer(strategy=&#x27;most_frequent&#x27;)</pre></div></div></div><div class=\"sk-item\"><div class=\"sk-estimator sk-toggleable\"><input class=\"sk-toggleable__control sk-hidden--visually\" id=\"9ff82dc2-0f35-48b4-a49c-b9ddc0327da1\" type=\"checkbox\" ><label for=\"9ff82dc2-0f35-48b4-a49c-b9ddc0327da1\" class=\"sk-toggleable__label sk-toggleable__label-arrow\">OneHotEncoder</label><div class=\"sk-toggleable__content\"><pre>OneHotEncoder(handle_unknown=&#x27;ignore&#x27;, sparse=False)</pre></div></div></div></div></div></div></div></div></div></div></div></div>"
      ],
      "text/plain": [
       "ColumnTransformer(transformers=[('pipeline-1',\n",
       "                                 Pipeline(steps=[('simpleimputer',\n",
       "                                                  SimpleImputer()),\n",
       "                                                 ('standardscaler',\n",
       "                                                  StandardScaler())]),\n",
       "                                 <sklearn.compose._column_transformer.make_column_selector object at 0x7f8afc3e24f0>),\n",
       "                                ('pipeline-2',\n",
       "                                 Pipeline(steps=[('simpleimputer',\n",
       "                                                  SimpleImputer(strategy='most_frequent')),\n",
       "                                                 ('onehotencoder',\n",
       "                                                  OneHotEncoder(handle_unknown='ignore',\n",
       "                                                                sparse=False))]),\n",
       "                                 <sklearn.compose._column_transformer.make_column_selector object at 0x7f8afc3e2fd0>)])"
      ]
     },
     "execution_count": 101,
     "metadata": {},
     "output_type": "execute_result"
    }
   ],
   "source": [
    "# Making tuples for ColumnTransformer\n",
    "num_tuple = (num_pipe, num_selector)\n",
    "cat_tuple = (cat_pipe, cat_selector)\n",
    "# Transforming\n",
    "preprocessor = make_column_transformer(num_tuple, cat_tuple)\n",
    "preprocessor"
   ]
  },
  {
   "cell_type": "code",
   "execution_count": 102,
   "metadata": {},
   "outputs": [
    {
     "data": {
      "text/html": [
       "<style>#sk-25f69a4b-bffe-4c2b-85cc-05047a4739e9 {color: black;background-color: white;}#sk-25f69a4b-bffe-4c2b-85cc-05047a4739e9 pre{padding: 0;}#sk-25f69a4b-bffe-4c2b-85cc-05047a4739e9 div.sk-toggleable {background-color: white;}#sk-25f69a4b-bffe-4c2b-85cc-05047a4739e9 label.sk-toggleable__label {cursor: pointer;display: block;width: 100%;margin-bottom: 0;padding: 0.3em;box-sizing: border-box;text-align: center;}#sk-25f69a4b-bffe-4c2b-85cc-05047a4739e9 label.sk-toggleable__label-arrow:before {content: \"▸\";float: left;margin-right: 0.25em;color: #696969;}#sk-25f69a4b-bffe-4c2b-85cc-05047a4739e9 label.sk-toggleable__label-arrow:hover:before {color: black;}#sk-25f69a4b-bffe-4c2b-85cc-05047a4739e9 div.sk-estimator:hover label.sk-toggleable__label-arrow:before {color: black;}#sk-25f69a4b-bffe-4c2b-85cc-05047a4739e9 div.sk-toggleable__content {max-height: 0;max-width: 0;overflow: hidden;text-align: left;background-color: #f0f8ff;}#sk-25f69a4b-bffe-4c2b-85cc-05047a4739e9 div.sk-toggleable__content pre {margin: 0.2em;color: black;border-radius: 0.25em;background-color: #f0f8ff;}#sk-25f69a4b-bffe-4c2b-85cc-05047a4739e9 input.sk-toggleable__control:checked~div.sk-toggleable__content {max-height: 200px;max-width: 100%;overflow: auto;}#sk-25f69a4b-bffe-4c2b-85cc-05047a4739e9 input.sk-toggleable__control:checked~label.sk-toggleable__label-arrow:before {content: \"▾\";}#sk-25f69a4b-bffe-4c2b-85cc-05047a4739e9 div.sk-estimator input.sk-toggleable__control:checked~label.sk-toggleable__label {background-color: #d4ebff;}#sk-25f69a4b-bffe-4c2b-85cc-05047a4739e9 div.sk-label input.sk-toggleable__control:checked~label.sk-toggleable__label {background-color: #d4ebff;}#sk-25f69a4b-bffe-4c2b-85cc-05047a4739e9 input.sk-hidden--visually {border: 0;clip: rect(1px 1px 1px 1px);clip: rect(1px, 1px, 1px, 1px);height: 1px;margin: -1px;overflow: hidden;padding: 0;position: absolute;width: 1px;}#sk-25f69a4b-bffe-4c2b-85cc-05047a4739e9 div.sk-estimator {font-family: monospace;background-color: #f0f8ff;border: 1px dotted black;border-radius: 0.25em;box-sizing: border-box;margin-bottom: 0.5em;}#sk-25f69a4b-bffe-4c2b-85cc-05047a4739e9 div.sk-estimator:hover {background-color: #d4ebff;}#sk-25f69a4b-bffe-4c2b-85cc-05047a4739e9 div.sk-parallel-item::after {content: \"\";width: 100%;border-bottom: 1px solid gray;flex-grow: 1;}#sk-25f69a4b-bffe-4c2b-85cc-05047a4739e9 div.sk-label:hover label.sk-toggleable__label {background-color: #d4ebff;}#sk-25f69a4b-bffe-4c2b-85cc-05047a4739e9 div.sk-serial::before {content: \"\";position: absolute;border-left: 1px solid gray;box-sizing: border-box;top: 2em;bottom: 0;left: 50%;}#sk-25f69a4b-bffe-4c2b-85cc-05047a4739e9 div.sk-serial {display: flex;flex-direction: column;align-items: center;background-color: white;padding-right: 0.2em;padding-left: 0.2em;}#sk-25f69a4b-bffe-4c2b-85cc-05047a4739e9 div.sk-item {z-index: 1;}#sk-25f69a4b-bffe-4c2b-85cc-05047a4739e9 div.sk-parallel {display: flex;align-items: stretch;justify-content: center;background-color: white;}#sk-25f69a4b-bffe-4c2b-85cc-05047a4739e9 div.sk-parallel::before {content: \"\";position: absolute;border-left: 1px solid gray;box-sizing: border-box;top: 2em;bottom: 0;left: 50%;}#sk-25f69a4b-bffe-4c2b-85cc-05047a4739e9 div.sk-parallel-item {display: flex;flex-direction: column;position: relative;background-color: white;}#sk-25f69a4b-bffe-4c2b-85cc-05047a4739e9 div.sk-parallel-item:first-child::after {align-self: flex-end;width: 50%;}#sk-25f69a4b-bffe-4c2b-85cc-05047a4739e9 div.sk-parallel-item:last-child::after {align-self: flex-start;width: 50%;}#sk-25f69a4b-bffe-4c2b-85cc-05047a4739e9 div.sk-parallel-item:only-child::after {width: 0;}#sk-25f69a4b-bffe-4c2b-85cc-05047a4739e9 div.sk-dashed-wrapped {border: 1px dashed gray;margin: 0 0.4em 0.5em 0.4em;box-sizing: border-box;padding-bottom: 0.4em;background-color: white;position: relative;}#sk-25f69a4b-bffe-4c2b-85cc-05047a4739e9 div.sk-label label {font-family: monospace;font-weight: bold;background-color: white;display: inline-block;line-height: 1.2em;}#sk-25f69a4b-bffe-4c2b-85cc-05047a4739e9 div.sk-label-container {position: relative;z-index: 2;text-align: center;}#sk-25f69a4b-bffe-4c2b-85cc-05047a4739e9 div.sk-container {/* jupyter's `normalize.less` sets `[hidden] { display: none; }` but bootstrap.min.css set `[hidden] { display: none !important; }` so we also need the `!important` here to be able to override the default hidden behavior on the sphinx rendered scikit-learn.org. See: https://github.com/scikit-learn/scikit-learn/issues/21755 */display: inline-block !important;position: relative;}#sk-25f69a4b-bffe-4c2b-85cc-05047a4739e9 div.sk-text-repr-fallback {display: none;}</style><div id=\"sk-25f69a4b-bffe-4c2b-85cc-05047a4739e9\" class=\"sk-top-container\"><div class=\"sk-text-repr-fallback\"><pre>ColumnTransformer(transformers=[(&#x27;pipeline-1&#x27;,\n",
       "                                 Pipeline(steps=[(&#x27;simpleimputer&#x27;,\n",
       "                                                  SimpleImputer()),\n",
       "                                                 (&#x27;standardscaler&#x27;,\n",
       "                                                  StandardScaler())]),\n",
       "                                 &lt;sklearn.compose._column_transformer.make_column_selector object at 0x7f8afc3e24f0&gt;),\n",
       "                                (&#x27;pipeline-2&#x27;,\n",
       "                                 Pipeline(steps=[(&#x27;simpleimputer&#x27;,\n",
       "                                                  SimpleImputer(strategy=&#x27;most_frequent&#x27;)),\n",
       "                                                 (&#x27;onehotencoder&#x27;,\n",
       "                                                  OneHotEncoder(handle_unknown=&#x27;ignore&#x27;,\n",
       "                                                                sparse=False))]),\n",
       "                                 &lt;sklearn.compose._column_transformer.make_column_selector object at 0x7f8afc3e2fd0&gt;)])</pre><b>Please rerun this cell to show the HTML repr or trust the notebook.</b></div><div class=\"sk-container\" hidden><div class=\"sk-item sk-dashed-wrapped\"><div class=\"sk-label-container\"><div class=\"sk-label sk-toggleable\"><input class=\"sk-toggleable__control sk-hidden--visually\" id=\"ebe6c4cb-7f72-4865-af53-04dff34cdc5b\" type=\"checkbox\" ><label for=\"ebe6c4cb-7f72-4865-af53-04dff34cdc5b\" class=\"sk-toggleable__label sk-toggleable__label-arrow\">ColumnTransformer</label><div class=\"sk-toggleable__content\"><pre>ColumnTransformer(transformers=[(&#x27;pipeline-1&#x27;,\n",
       "                                 Pipeline(steps=[(&#x27;simpleimputer&#x27;,\n",
       "                                                  SimpleImputer()),\n",
       "                                                 (&#x27;standardscaler&#x27;,\n",
       "                                                  StandardScaler())]),\n",
       "                                 &lt;sklearn.compose._column_transformer.make_column_selector object at 0x7f8afc3e24f0&gt;),\n",
       "                                (&#x27;pipeline-2&#x27;,\n",
       "                                 Pipeline(steps=[(&#x27;simpleimputer&#x27;,\n",
       "                                                  SimpleImputer(strategy=&#x27;most_frequent&#x27;)),\n",
       "                                                 (&#x27;onehotencoder&#x27;,\n",
       "                                                  OneHotEncoder(handle_unknown=&#x27;ignore&#x27;,\n",
       "                                                                sparse=False))]),\n",
       "                                 &lt;sklearn.compose._column_transformer.make_column_selector object at 0x7f8afc3e2fd0&gt;)])</pre></div></div></div><div class=\"sk-parallel\"><div class=\"sk-parallel-item\"><div class=\"sk-item\"><div class=\"sk-label-container\"><div class=\"sk-label sk-toggleable\"><input class=\"sk-toggleable__control sk-hidden--visually\" id=\"a9da2b71-e7af-4a5f-bcda-3f5075aec15d\" type=\"checkbox\" ><label for=\"a9da2b71-e7af-4a5f-bcda-3f5075aec15d\" class=\"sk-toggleable__label sk-toggleable__label-arrow\">pipeline-1</label><div class=\"sk-toggleable__content\"><pre>&lt;sklearn.compose._column_transformer.make_column_selector object at 0x7f8afc3e24f0&gt;</pre></div></div></div><div class=\"sk-serial\"><div class=\"sk-item\"><div class=\"sk-serial\"><div class=\"sk-item\"><div class=\"sk-estimator sk-toggleable\"><input class=\"sk-toggleable__control sk-hidden--visually\" id=\"085acf8c-21e9-410a-814f-d9040926796f\" type=\"checkbox\" ><label for=\"085acf8c-21e9-410a-814f-d9040926796f\" class=\"sk-toggleable__label sk-toggleable__label-arrow\">SimpleImputer</label><div class=\"sk-toggleable__content\"><pre>SimpleImputer()</pre></div></div></div><div class=\"sk-item\"><div class=\"sk-estimator sk-toggleable\"><input class=\"sk-toggleable__control sk-hidden--visually\" id=\"689c64c4-4c7c-493f-93a0-5775429fde2d\" type=\"checkbox\" ><label for=\"689c64c4-4c7c-493f-93a0-5775429fde2d\" class=\"sk-toggleable__label sk-toggleable__label-arrow\">StandardScaler</label><div class=\"sk-toggleable__content\"><pre>StandardScaler()</pre></div></div></div></div></div></div></div></div><div class=\"sk-parallel-item\"><div class=\"sk-item\"><div class=\"sk-label-container\"><div class=\"sk-label sk-toggleable\"><input class=\"sk-toggleable__control sk-hidden--visually\" id=\"1454a909-04de-4381-a4e4-fb6aed1cc6db\" type=\"checkbox\" ><label for=\"1454a909-04de-4381-a4e4-fb6aed1cc6db\" class=\"sk-toggleable__label sk-toggleable__label-arrow\">pipeline-2</label><div class=\"sk-toggleable__content\"><pre>&lt;sklearn.compose._column_transformer.make_column_selector object at 0x7f8afc3e2fd0&gt;</pre></div></div></div><div class=\"sk-serial\"><div class=\"sk-item\"><div class=\"sk-serial\"><div class=\"sk-item\"><div class=\"sk-estimator sk-toggleable\"><input class=\"sk-toggleable__control sk-hidden--visually\" id=\"02e8aa27-ab6e-4e5f-9f47-c1f2f72f000b\" type=\"checkbox\" ><label for=\"02e8aa27-ab6e-4e5f-9f47-c1f2f72f000b\" class=\"sk-toggleable__label sk-toggleable__label-arrow\">SimpleImputer</label><div class=\"sk-toggleable__content\"><pre>SimpleImputer(strategy=&#x27;most_frequent&#x27;)</pre></div></div></div><div class=\"sk-item\"><div class=\"sk-estimator sk-toggleable\"><input class=\"sk-toggleable__control sk-hidden--visually\" id=\"90f60577-d260-4e80-9223-230a9e5aa59a\" type=\"checkbox\" ><label for=\"90f60577-d260-4e80-9223-230a9e5aa59a\" class=\"sk-toggleable__label sk-toggleable__label-arrow\">OneHotEncoder</label><div class=\"sk-toggleable__content\"><pre>OneHotEncoder(handle_unknown=&#x27;ignore&#x27;, sparse=False)</pre></div></div></div></div></div></div></div></div></div></div></div></div>"
      ],
      "text/plain": [
       "ColumnTransformer(transformers=[('pipeline-1',\n",
       "                                 Pipeline(steps=[('simpleimputer',\n",
       "                                                  SimpleImputer()),\n",
       "                                                 ('standardscaler',\n",
       "                                                  StandardScaler())]),\n",
       "                                 <sklearn.compose._column_transformer.make_column_selector object at 0x7f8afc3e24f0>),\n",
       "                                ('pipeline-2',\n",
       "                                 Pipeline(steps=[('simpleimputer',\n",
       "                                                  SimpleImputer(strategy='most_frequent')),\n",
       "                                                 ('onehotencoder',\n",
       "                                                  OneHotEncoder(handle_unknown='ignore',\n",
       "                                                                sparse=False))]),\n",
       "                                 <sklearn.compose._column_transformer.make_column_selector object at 0x7f8afc3e2fd0>)])"
      ]
     },
     "execution_count": 102,
     "metadata": {},
     "output_type": "execute_result"
    }
   ],
   "source": [
    "# Fitting preprocessor to X_train\n",
    "preprocessor.fit(X_train)"
   ]
  },
  {
   "cell_type": "code",
   "execution_count": 103,
   "metadata": {},
   "outputs": [],
   "source": [
    "# Transform train and test\n",
    "train_process = preprocessor.transform(X_train)\n",
    "test_process = preprocessor.transform(X_test)"
   ]
  },
  {
   "cell_type": "code",
   "execution_count": 104,
   "metadata": {},
   "outputs": [
    {
     "name": "stdout",
     "output_type": "stream",
     "text": [
      "0 missing values in train.\n",
      "\n",
      "\n",
      "0 missing values in test.\n",
      "\n",
      "\n"
     ]
    },
    {
     "data": {
      "text/plain": [
       "array([[ 1.82810922,  1.        ,  0.        , ...,  0.        ,\n",
       "         1.        ,  0.        ],\n",
       "       [ 0.60336888,  0.        ,  1.        , ...,  0.        ,\n",
       "         1.        ,  0.        ],\n",
       "       [ 0.24454056,  0.        ,  1.        , ...,  1.        ,\n",
       "         0.        ,  0.        ],\n",
       "       ...,\n",
       "       [ 1.52302674,  1.        ,  0.        , ...,  1.        ,\n",
       "         0.        ,  0.        ],\n",
       "       [-0.38377708,  1.        ,  0.        , ...,  1.        ,\n",
       "         0.        ,  0.        ],\n",
       "       [-0.73836105,  1.        ,  0.        , ...,  1.        ,\n",
       "         0.        ,  0.        ]])"
      ]
     },
     "execution_count": 104,
     "metadata": {},
     "output_type": "execute_result"
    }
   ],
   "source": [
    "# Checking to see if imputation of missing values worked.\n",
    "print(np.isnan(train_process).sum().sum(), 'missing values in train.')\n",
    "print('\\n')\n",
    "print(np.isnan(test_process).sum().sum(), 'missing values in test.')\n",
    "print('\\n')\n",
    "train_process"
   ]
  },
  {
   "cell_type": "markdown",
   "metadata": {},
   "source": [
    "### Project 1 - Final"
   ]
  },
  {
   "cell_type": "markdown",
   "metadata": {},
   "source": [
    "#### Importing Modules"
   ]
  },
  {
   "cell_type": "code",
   "execution_count": 105,
   "metadata": {},
   "outputs": [],
   "source": [
    "from sklearn.linear_model import LinearRegression\n",
    "from sklearn.metrics import r2_score, mean_absolute_error, mean_squared_error"
   ]
  },
  {
   "cell_type": "markdown",
   "metadata": {},
   "source": [
    "- Creating function that evaulates the model."
   ]
  },
  {
   "cell_type": "code",
   "execution_count": 106,
   "metadata": {},
   "outputs": [],
   "source": [
    "def evaluate_func(data, X_train, y_train, X_test, y_test, train_pred, test_pred):\n",
    "    # MAE\n",
    "    train_mae = mean_absolute_error(y_train, train_pred)\n",
    "    test_mae = mean_absolute_error(y_test, test_pred)\n",
    "    # MSE\n",
    "    train_mse = mean_squared_error(y_train, train_pred)\n",
    "    test_mse = mean_squared_error(y_test, test_pred)\n",
    "    #RMSE\n",
    "    train_rmse = np.sqrt(train_mse)\n",
    "    test_rmse = np.sqrt(test_mse)\n",
    "    # R2\n",
    "    train_r2 = data.score(X_train, y_train)\n",
    "    test_r2 = data.score(X_test, y_test)\n",
    "\n",
    "    print(f'Train MAE: {train_mae}\\nTest MAE: {test_mae}\\n')\n",
    "    print(f'Train MSE: {train_mae}\\nTest MSE: {test_mse}\\n')\n",
    "    print(f'Train RMSE: {train_rmse}\\nTest RMSE: {test_rmse}\\n')\n",
    "    print(f'Train R2: {train_r2}\\nTest R2: {test_r2}')"
   ]
  },
  {
   "cell_type": "markdown",
   "metadata": {},
   "source": [
    "#### Task 1\n",
    "1. Your first task is to build a linear regression model to predict sales."
   ]
  },
  {
   "cell_type": "code",
   "execution_count": 107,
   "metadata": {},
   "outputs": [
    {
     "name": "stdout",
     "output_type": "stream",
     "text": [
      "Train MAE: 847.3390409012242\n",
      "Test MAE: 803.345519044756\n",
      "\n",
      "Train MSE: 847.3390409012242\n",
      "Test MSE: 1193600.5935573883\n",
      "\n",
      "Train RMSE: 1139.317988661739\n",
      "Test RMSE: 1092.5202943457793\n",
      "\n",
      "Train R2: 0.5613904687599012\n",
      "Test R2: 0.5673757088061124\n"
     ]
    }
   ],
   "source": [
    "# Creating LinearRegression\n",
    "lin_reg = LinearRegression()\n",
    "# Making pipeline using scaler and lin_reg\n",
    "reg_pipe = make_pipeline(preprocessor, lin_reg)\n",
    "# fitting pipeline to training set\n",
    "reg_pipe.fit(X_train,y_train)\n",
    "# Creating predictions off of pipeline\n",
    "train_pred = reg_pipe.predict(X_train)\n",
    "test_pred = reg_pipe.predict(X_test)\n",
    "# using custom function to see outputs of model using regression metrics\n",
    "evaluate_func(data=reg_pipe, X_train=X_train, y_train=y_train, X_test=X_test, y_test=y_test, train_pred=train_pred, test_pred=test_pred)"
   ]
  },
  {
   "cell_type": "markdown",
   "metadata": {},
   "source": [
    "### Task 2\n",
    "- Your second task is to build a regression tree model to predict sales."
   ]
  },
  {
   "cell_type": "markdown",
   "metadata": {},
   "source": [
    "#### Import Modules"
   ]
  },
  {
   "cell_type": "code",
   "execution_count": 108,
   "metadata": {},
   "outputs": [],
   "source": [
    "from sklearn.tree import DecisionTreeRegressor"
   ]
  },
  {
   "cell_type": "code",
   "execution_count": 109,
   "metadata": {},
   "outputs": [
    {
     "data": {
      "text/html": [
       "<style>#sk-4720bf16-4c5d-4e29-ab57-70be9c50035c {color: black;background-color: white;}#sk-4720bf16-4c5d-4e29-ab57-70be9c50035c pre{padding: 0;}#sk-4720bf16-4c5d-4e29-ab57-70be9c50035c div.sk-toggleable {background-color: white;}#sk-4720bf16-4c5d-4e29-ab57-70be9c50035c label.sk-toggleable__label {cursor: pointer;display: block;width: 100%;margin-bottom: 0;padding: 0.3em;box-sizing: border-box;text-align: center;}#sk-4720bf16-4c5d-4e29-ab57-70be9c50035c label.sk-toggleable__label-arrow:before {content: \"▸\";float: left;margin-right: 0.25em;color: #696969;}#sk-4720bf16-4c5d-4e29-ab57-70be9c50035c label.sk-toggleable__label-arrow:hover:before {color: black;}#sk-4720bf16-4c5d-4e29-ab57-70be9c50035c div.sk-estimator:hover label.sk-toggleable__label-arrow:before {color: black;}#sk-4720bf16-4c5d-4e29-ab57-70be9c50035c div.sk-toggleable__content {max-height: 0;max-width: 0;overflow: hidden;text-align: left;background-color: #f0f8ff;}#sk-4720bf16-4c5d-4e29-ab57-70be9c50035c div.sk-toggleable__content pre {margin: 0.2em;color: black;border-radius: 0.25em;background-color: #f0f8ff;}#sk-4720bf16-4c5d-4e29-ab57-70be9c50035c input.sk-toggleable__control:checked~div.sk-toggleable__content {max-height: 200px;max-width: 100%;overflow: auto;}#sk-4720bf16-4c5d-4e29-ab57-70be9c50035c input.sk-toggleable__control:checked~label.sk-toggleable__label-arrow:before {content: \"▾\";}#sk-4720bf16-4c5d-4e29-ab57-70be9c50035c div.sk-estimator input.sk-toggleable__control:checked~label.sk-toggleable__label {background-color: #d4ebff;}#sk-4720bf16-4c5d-4e29-ab57-70be9c50035c div.sk-label input.sk-toggleable__control:checked~label.sk-toggleable__label {background-color: #d4ebff;}#sk-4720bf16-4c5d-4e29-ab57-70be9c50035c input.sk-hidden--visually {border: 0;clip: rect(1px 1px 1px 1px);clip: rect(1px, 1px, 1px, 1px);height: 1px;margin: -1px;overflow: hidden;padding: 0;position: absolute;width: 1px;}#sk-4720bf16-4c5d-4e29-ab57-70be9c50035c div.sk-estimator {font-family: monospace;background-color: #f0f8ff;border: 1px dotted black;border-radius: 0.25em;box-sizing: border-box;margin-bottom: 0.5em;}#sk-4720bf16-4c5d-4e29-ab57-70be9c50035c div.sk-estimator:hover {background-color: #d4ebff;}#sk-4720bf16-4c5d-4e29-ab57-70be9c50035c div.sk-parallel-item::after {content: \"\";width: 100%;border-bottom: 1px solid gray;flex-grow: 1;}#sk-4720bf16-4c5d-4e29-ab57-70be9c50035c div.sk-label:hover label.sk-toggleable__label {background-color: #d4ebff;}#sk-4720bf16-4c5d-4e29-ab57-70be9c50035c div.sk-serial::before {content: \"\";position: absolute;border-left: 1px solid gray;box-sizing: border-box;top: 2em;bottom: 0;left: 50%;}#sk-4720bf16-4c5d-4e29-ab57-70be9c50035c div.sk-serial {display: flex;flex-direction: column;align-items: center;background-color: white;padding-right: 0.2em;padding-left: 0.2em;}#sk-4720bf16-4c5d-4e29-ab57-70be9c50035c div.sk-item {z-index: 1;}#sk-4720bf16-4c5d-4e29-ab57-70be9c50035c div.sk-parallel {display: flex;align-items: stretch;justify-content: center;background-color: white;}#sk-4720bf16-4c5d-4e29-ab57-70be9c50035c div.sk-parallel::before {content: \"\";position: absolute;border-left: 1px solid gray;box-sizing: border-box;top: 2em;bottom: 0;left: 50%;}#sk-4720bf16-4c5d-4e29-ab57-70be9c50035c div.sk-parallel-item {display: flex;flex-direction: column;position: relative;background-color: white;}#sk-4720bf16-4c5d-4e29-ab57-70be9c50035c div.sk-parallel-item:first-child::after {align-self: flex-end;width: 50%;}#sk-4720bf16-4c5d-4e29-ab57-70be9c50035c div.sk-parallel-item:last-child::after {align-self: flex-start;width: 50%;}#sk-4720bf16-4c5d-4e29-ab57-70be9c50035c div.sk-parallel-item:only-child::after {width: 0;}#sk-4720bf16-4c5d-4e29-ab57-70be9c50035c div.sk-dashed-wrapped {border: 1px dashed gray;margin: 0 0.4em 0.5em 0.4em;box-sizing: border-box;padding-bottom: 0.4em;background-color: white;position: relative;}#sk-4720bf16-4c5d-4e29-ab57-70be9c50035c div.sk-label label {font-family: monospace;font-weight: bold;background-color: white;display: inline-block;line-height: 1.2em;}#sk-4720bf16-4c5d-4e29-ab57-70be9c50035c div.sk-label-container {position: relative;z-index: 2;text-align: center;}#sk-4720bf16-4c5d-4e29-ab57-70be9c50035c div.sk-container {/* jupyter's `normalize.less` sets `[hidden] { display: none; }` but bootstrap.min.css set `[hidden] { display: none !important; }` so we also need the `!important` here to be able to override the default hidden behavior on the sphinx rendered scikit-learn.org. See: https://github.com/scikit-learn/scikit-learn/issues/21755 */display: inline-block !important;position: relative;}#sk-4720bf16-4c5d-4e29-ab57-70be9c50035c div.sk-text-repr-fallback {display: none;}</style><div id=\"sk-4720bf16-4c5d-4e29-ab57-70be9c50035c\" class=\"sk-top-container\"><div class=\"sk-text-repr-fallback\"><pre>Pipeline(steps=[(&#x27;columntransformer&#x27;,\n",
       "                 ColumnTransformer(transformers=[(&#x27;pipeline-1&#x27;,\n",
       "                                                  Pipeline(steps=[(&#x27;simpleimputer&#x27;,\n",
       "                                                                   SimpleImputer()),\n",
       "                                                                  (&#x27;standardscaler&#x27;,\n",
       "                                                                   StandardScaler())]),\n",
       "                                                  &lt;sklearn.compose._column_transformer.make_column_selector object at 0x7f8afc3e24f0&gt;),\n",
       "                                                 (&#x27;pipeline-2&#x27;,\n",
       "                                                  Pipeline(steps=[(&#x27;simpleimputer&#x27;,\n",
       "                                                                   SimpleImputer(strategy=&#x27;most_frequent&#x27;)),\n",
       "                                                                  (&#x27;onehotencoder&#x27;,\n",
       "                                                                   OneHotEncoder(handle_unknown=&#x27;ignore&#x27;,\n",
       "                                                                                 sparse=False))]),\n",
       "                                                  &lt;sklearn.compose._column_transformer.make_column_selector object at 0x7f8afc3e2fd0&gt;)])),\n",
       "                (&#x27;decisiontreeregressor&#x27;,\n",
       "                 DecisionTreeRegressor(random_state=42))])</pre><b>Please rerun this cell to show the HTML repr or trust the notebook.</b></div><div class=\"sk-container\" hidden><div class=\"sk-item sk-dashed-wrapped\"><div class=\"sk-label-container\"><div class=\"sk-label sk-toggleable\"><input class=\"sk-toggleable__control sk-hidden--visually\" id=\"2dea1eb3-fc8b-4e9d-b232-af92f071db9a\" type=\"checkbox\" ><label for=\"2dea1eb3-fc8b-4e9d-b232-af92f071db9a\" class=\"sk-toggleable__label sk-toggleable__label-arrow\">Pipeline</label><div class=\"sk-toggleable__content\"><pre>Pipeline(steps=[(&#x27;columntransformer&#x27;,\n",
       "                 ColumnTransformer(transformers=[(&#x27;pipeline-1&#x27;,\n",
       "                                                  Pipeline(steps=[(&#x27;simpleimputer&#x27;,\n",
       "                                                                   SimpleImputer()),\n",
       "                                                                  (&#x27;standardscaler&#x27;,\n",
       "                                                                   StandardScaler())]),\n",
       "                                                  &lt;sklearn.compose._column_transformer.make_column_selector object at 0x7f8afc3e24f0&gt;),\n",
       "                                                 (&#x27;pipeline-2&#x27;,\n",
       "                                                  Pipeline(steps=[(&#x27;simpleimputer&#x27;,\n",
       "                                                                   SimpleImputer(strategy=&#x27;most_frequent&#x27;)),\n",
       "                                                                  (&#x27;onehotencoder&#x27;,\n",
       "                                                                   OneHotEncoder(handle_unknown=&#x27;ignore&#x27;,\n",
       "                                                                                 sparse=False))]),\n",
       "                                                  &lt;sklearn.compose._column_transformer.make_column_selector object at 0x7f8afc3e2fd0&gt;)])),\n",
       "                (&#x27;decisiontreeregressor&#x27;,\n",
       "                 DecisionTreeRegressor(random_state=42))])</pre></div></div></div><div class=\"sk-serial\"><div class=\"sk-item sk-dashed-wrapped\"><div class=\"sk-label-container\"><div class=\"sk-label sk-toggleable\"><input class=\"sk-toggleable__control sk-hidden--visually\" id=\"f7fb976b-9f84-464a-9cc9-288902e6aefa\" type=\"checkbox\" ><label for=\"f7fb976b-9f84-464a-9cc9-288902e6aefa\" class=\"sk-toggleable__label sk-toggleable__label-arrow\">columntransformer: ColumnTransformer</label><div class=\"sk-toggleable__content\"><pre>ColumnTransformer(transformers=[(&#x27;pipeline-1&#x27;,\n",
       "                                 Pipeline(steps=[(&#x27;simpleimputer&#x27;,\n",
       "                                                  SimpleImputer()),\n",
       "                                                 (&#x27;standardscaler&#x27;,\n",
       "                                                  StandardScaler())]),\n",
       "                                 &lt;sklearn.compose._column_transformer.make_column_selector object at 0x7f8afc3e24f0&gt;),\n",
       "                                (&#x27;pipeline-2&#x27;,\n",
       "                                 Pipeline(steps=[(&#x27;simpleimputer&#x27;,\n",
       "                                                  SimpleImputer(strategy=&#x27;most_frequent&#x27;)),\n",
       "                                                 (&#x27;onehotencoder&#x27;,\n",
       "                                                  OneHotEncoder(handle_unknown=&#x27;ignore&#x27;,\n",
       "                                                                sparse=False))]),\n",
       "                                 &lt;sklearn.compose._column_transformer.make_column_selector object at 0x7f8afc3e2fd0&gt;)])</pre></div></div></div><div class=\"sk-parallel\"><div class=\"sk-parallel-item\"><div class=\"sk-item\"><div class=\"sk-label-container\"><div class=\"sk-label sk-toggleable\"><input class=\"sk-toggleable__control sk-hidden--visually\" id=\"4299e1a2-83ff-4c5e-ad85-c3fd5349274b\" type=\"checkbox\" ><label for=\"4299e1a2-83ff-4c5e-ad85-c3fd5349274b\" class=\"sk-toggleable__label sk-toggleable__label-arrow\">pipeline-1</label><div class=\"sk-toggleable__content\"><pre>&lt;sklearn.compose._column_transformer.make_column_selector object at 0x7f8afc3e24f0&gt;</pre></div></div></div><div class=\"sk-serial\"><div class=\"sk-item\"><div class=\"sk-serial\"><div class=\"sk-item\"><div class=\"sk-estimator sk-toggleable\"><input class=\"sk-toggleable__control sk-hidden--visually\" id=\"cd6bb5b2-592b-4a3f-8494-2fd07c9f2b57\" type=\"checkbox\" ><label for=\"cd6bb5b2-592b-4a3f-8494-2fd07c9f2b57\" class=\"sk-toggleable__label sk-toggleable__label-arrow\">SimpleImputer</label><div class=\"sk-toggleable__content\"><pre>SimpleImputer()</pre></div></div></div><div class=\"sk-item\"><div class=\"sk-estimator sk-toggleable\"><input class=\"sk-toggleable__control sk-hidden--visually\" id=\"db942b33-8e52-450e-a0fa-884d80a0f7ba\" type=\"checkbox\" ><label for=\"db942b33-8e52-450e-a0fa-884d80a0f7ba\" class=\"sk-toggleable__label sk-toggleable__label-arrow\">StandardScaler</label><div class=\"sk-toggleable__content\"><pre>StandardScaler()</pre></div></div></div></div></div></div></div></div><div class=\"sk-parallel-item\"><div class=\"sk-item\"><div class=\"sk-label-container\"><div class=\"sk-label sk-toggleable\"><input class=\"sk-toggleable__control sk-hidden--visually\" id=\"e9dbaae6-afbc-4c6f-8e78-a4d30a1c2d7d\" type=\"checkbox\" ><label for=\"e9dbaae6-afbc-4c6f-8e78-a4d30a1c2d7d\" class=\"sk-toggleable__label sk-toggleable__label-arrow\">pipeline-2</label><div class=\"sk-toggleable__content\"><pre>&lt;sklearn.compose._column_transformer.make_column_selector object at 0x7f8afc3e2fd0&gt;</pre></div></div></div><div class=\"sk-serial\"><div class=\"sk-item\"><div class=\"sk-serial\"><div class=\"sk-item\"><div class=\"sk-estimator sk-toggleable\"><input class=\"sk-toggleable__control sk-hidden--visually\" id=\"4b8a456c-3901-45fe-a88e-a3f52960fb54\" type=\"checkbox\" ><label for=\"4b8a456c-3901-45fe-a88e-a3f52960fb54\" class=\"sk-toggleable__label sk-toggleable__label-arrow\">SimpleImputer</label><div class=\"sk-toggleable__content\"><pre>SimpleImputer(strategy=&#x27;most_frequent&#x27;)</pre></div></div></div><div class=\"sk-item\"><div class=\"sk-estimator sk-toggleable\"><input class=\"sk-toggleable__control sk-hidden--visually\" id=\"edd357e3-f16c-4c88-8083-8930dcc88665\" type=\"checkbox\" ><label for=\"edd357e3-f16c-4c88-8083-8930dcc88665\" class=\"sk-toggleable__label sk-toggleable__label-arrow\">OneHotEncoder</label><div class=\"sk-toggleable__content\"><pre>OneHotEncoder(handle_unknown=&#x27;ignore&#x27;, sparse=False)</pre></div></div></div></div></div></div></div></div></div></div><div class=\"sk-item\"><div class=\"sk-estimator sk-toggleable\"><input class=\"sk-toggleable__control sk-hidden--visually\" id=\"502c5fae-50a0-4487-b2b9-45669fd272b2\" type=\"checkbox\" ><label for=\"502c5fae-50a0-4487-b2b9-45669fd272b2\" class=\"sk-toggleable__label sk-toggleable__label-arrow\">DecisionTreeRegressor</label><div class=\"sk-toggleable__content\"><pre>DecisionTreeRegressor(random_state=42)</pre></div></div></div></div></div></div></div>"
      ],
      "text/plain": [
       "Pipeline(steps=[('columntransformer',\n",
       "                 ColumnTransformer(transformers=[('pipeline-1',\n",
       "                                                  Pipeline(steps=[('simpleimputer',\n",
       "                                                                   SimpleImputer()),\n",
       "                                                                  ('standardscaler',\n",
       "                                                                   StandardScaler())]),\n",
       "                                                  <sklearn.compose._column_transformer.make_column_selector object at 0x7f8afc3e24f0>),\n",
       "                                                 ('pipeline-2',\n",
       "                                                  Pipeline(steps=[('simpleimputer',\n",
       "                                                                   SimpleImputer(strategy='most_frequent')),\n",
       "                                                                  ('onehotencoder',\n",
       "                                                                   OneHotEncoder(handle_unknown='ignore',\n",
       "                                                                                 sparse=False))]),\n",
       "                                                  <sklearn.compose._column_transformer.make_column_selector object at 0x7f8afc3e2fd0>)])),\n",
       "                ('decisiontreeregressor',\n",
       "                 DecisionTreeRegressor(random_state=42))])"
      ]
     },
     "execution_count": 109,
     "metadata": {},
     "output_type": "execute_result"
    }
   ],
   "source": [
    "# Creating Decision tree pipeline with preprocessing\n",
    "dec_tree_pipe = make_pipeline(preprocessor, DecisionTreeRegressor(random_state=42))\n",
    "dec_tree_pipe.fit(X_train, y_train)"
   ]
  },
  {
   "cell_type": "code",
   "execution_count": 110,
   "metadata": {},
   "outputs": [
    {
     "data": {
      "text/html": [
       "<div>\n",
       "<style scoped>\n",
       "    .dataframe tbody tr th:only-of-type {\n",
       "        vertical-align: middle;\n",
       "    }\n",
       "\n",
       "    .dataframe tbody tr th {\n",
       "        vertical-align: top;\n",
       "    }\n",
       "\n",
       "    .dataframe thead th {\n",
       "        text-align: right;\n",
       "    }\n",
       "</style>\n",
       "<table border=\"1\" class=\"dataframe\">\n",
       "  <thead>\n",
       "    <tr style=\"text-align: right;\">\n",
       "      <th></th>\n",
       "      <th>Test Score</th>\n",
       "      <th>Train Score</th>\n",
       "    </tr>\n",
       "  </thead>\n",
       "  <tbody>\n",
       "    <tr>\n",
       "      <th>5</th>\n",
       "      <td>0.595768</td>\n",
       "      <td>0.603743</td>\n",
       "    </tr>\n",
       "    <tr>\n",
       "      <th>4</th>\n",
       "      <td>0.584005</td>\n",
       "      <td>0.582625</td>\n",
       "    </tr>\n",
       "    <tr>\n",
       "      <th>6</th>\n",
       "      <td>0.583692</td>\n",
       "      <td>0.614881</td>\n",
       "    </tr>\n",
       "    <tr>\n",
       "      <th>7</th>\n",
       "      <td>0.581142</td>\n",
       "      <td>0.625912</td>\n",
       "    </tr>\n",
       "    <tr>\n",
       "      <th>8</th>\n",
       "      <td>0.569833</td>\n",
       "      <td>0.639082</td>\n",
       "    </tr>\n",
       "  </tbody>\n",
       "</table>\n",
       "</div>"
      ],
      "text/plain": [
       "  Test Score Train Score\n",
       "5   0.595768    0.603743\n",
       "4   0.584005    0.582625\n",
       "6   0.583692    0.614881\n",
       "7   0.581142    0.625912\n",
       "8   0.569833    0.639082"
      ]
     },
     "execution_count": 110,
     "metadata": {},
     "output_type": "execute_result"
    }
   ],
   "source": [
    "# Crating list of depth values\n",
    "depths = list(range(2,40))\n",
    "# Creating dataframe to store the scores from loop\n",
    "scores = pd.DataFrame(index=depths, columns=['Test Score', 'Train Score'])\n",
    "# Creating for loop to loop through different depth to see the highest output\n",
    "for depth in depths:\n",
    "    dec_tree = DecisionTreeRegressor(max_depth=depth, random_state=42)\n",
    "    dec_tree_pipe = make_pipeline(preprocessor, dec_tree)\n",
    "    dec_tree_pipe.fit(X_train, y_train)\n",
    "    train_pred = dec_tree_pipe.predict(X_train)\n",
    "    test_pred = dec_tree_pipe.predict(X_test)\n",
    "    scores.loc[depth, 'Train Score'] = r2_score(y_train, train_pred)\n",
    "    scores.loc[depth, 'Test Score'] = r2_score(y_test, test_pred)\n",
    "# Sorting by test scores to see the highest value by depth\n",
    "sorted_scores = scores.sort_values(by='Test Score', ascending=False)\n",
    "sorted_scores.head()"
   ]
  },
  {
   "cell_type": "code",
   "execution_count": 111,
   "metadata": {},
   "outputs": [
    {
     "data": {
      "text/plain": [
       "Text(0, 0.5, 'R2')"
      ]
     },
     "execution_count": 111,
     "metadata": {},
     "output_type": "execute_result"
    },
    {
     "data": {
      "image/png": "[encoded data removed]",
      "text/plain": [
       "<Figure size 640x480 with 1 Axes>"
      ]
     },
     "metadata": {},
     "output_type": "display_data"
    }
   ],
   "source": [
    "sns.lineplot(data=sorted_scores, x=depths, y='Test Score')\n",
    "plt.xlabel('max_depth')\n",
    "plt.ylabel('R2')"
   ]
  },
  {
   "cell_type": "code",
   "execution_count": 112,
   "metadata": {},
   "outputs": [
    {
     "name": "stdout",
     "output_type": "stream",
     "text": [
      "Train MAE: 762.6003835955411\n",
      "Test MAE: 737.8059166473585\n",
      "\n",
      "Train MSE: 762.6003835955411\n",
      "Test MSE: 1115266.7909904087\n",
      "\n",
      "Train RMSE: 1082.9156109636097\n",
      "Test RMSE: 1056.0619257365586\n",
      "\n",
      "Train R2: 0.6037426008184527\n",
      "Test R2: 0.5957680420497302\n"
     ]
    }
   ],
   "source": [
    "# Creating decision tree\n",
    "dec_tree_4 = DecisionTreeRegressor(max_depth=5, random_state=42)\n",
    "\n",
    "dec_4_pipe = make_pipeline(preprocessor, dec_tree_4)\n",
    "# Fitting data to training sets\n",
    "dec_4_pipe.fit(X_train, y_train)\n",
    "# Creating predictions for training and testing sets\n",
    "train_pred = dec_4_pipe.predict(X_train)\n",
    "test_pred = dec_4_pipe.predict(X_test)\n",
    "# Using custom function to see Regression Metric values\n",
    "evaluate_func(data=dec_4_pipe, X_train=X_train, y_train=y_train, X_test=X_test, y_test=y_test, train_pred=train_pred, test_pred=test_pred)"
   ]
  },
  {
   "cell_type": "markdown",
   "metadata": {},
   "source": [
    "# Task 3\n",
    "3. You now have tried 2 different models on your data set. You need to determine which model to implement.\n",
    "    - Overall, which model do you recommend?\n",
    "    - Justify your recommendation."
   ]
  },
  {
   "cell_type": "markdown",
   "metadata": {},
   "source": [
    "I would recommend the regression tree model. I came to this conclusion mainly from the `R2` and `RMSE` values and also the customization of the regression tree. Even though the `RMSE` is lower on the training and testing set for the regression tree. The `R2` for the regression is higher for both sets. Also, being able to customize the depth to have the highest output for the regression metric, it makes for a more accurate model prediction."
   ]
  },
  {
   "cell_type": "code",
   "execution_count": null,
   "metadata": {},
   "outputs": [],
   "source": []
  },
  {
   "cell_type": "code",
   "execution_count": null,
   "metadata": {},
   "outputs": [],
   "source": []
  },
  {
   "cell_type": "code",
   "execution_count": null,
   "metadata": {},
   "outputs": [],
   "source": []
  },
  {
   "cell_type": "code",
   "execution_count": null,
   "metadata": {},
   "outputs": [],
   "source": []
  }
 ],
 "metadata": {
  "accelerator": "GPU",
  "colab": {
   "machine_shape": "hm",
   "provenance": []
  },
  "gpuClass": "premium",
  "kernelspec": {
   "display_name": "Python 3 (ipykernel)",
   "language": "python",
   "name": "python3"
  },
  "language_info": {
   "codemirror_mode": {
    "name": "ipython",
    "version": 3
   },
   "file_extension": ".py",
   "mimetype": "text/x-python",
   "name": "python",
   "nbconvert_exporter": "python",
   "pygments_lexer": "ipython3",
   "version": "3.9.13 (main, Aug 25 2022, 23:26:10) \n[GCC 11.2.0]"
  },
  "vscode": {
   "interpreter": {
    "hash": "5d64c2950f9e0adfbbee4241f8ddaa1f2ad50146a2c50dd199d5c206672712ee"
   }
  }
 },
 "nbformat": 4,
 "nbformat_minor": 4
}
