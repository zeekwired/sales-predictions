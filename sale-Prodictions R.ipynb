{
 "cells": [
  {
   "cell_type": "code",
   "execution_count": 2,
   "metadata": {
    "vscode": {
     "languageId": "r"
    }
   },
   "outputs": [
    {
     "data": {
      "text/html": [
       "<table class=\"dataframe\">\n",
       "<caption>A data.frame: 5 × 12</caption>\n",
       "<thead>\n",
       "\t<tr><th></th><th scope=col>Item_Identifier</th><th scope=col>Item_Weight</th><th scope=col>Item_Fat_Content</th><th scope=col>Item_Visibility</th><th scope=col>Item_Type</th><th scope=col>Item_MRP</th><th scope=col>Outlet_Identifier</th><th scope=col>Outlet_Establishment_Year</th><th scope=col>Outlet_Size</th><th scope=col>Outlet_Location_Type</th><th scope=col>Outlet_Type</th><th scope=col>Item_Outlet_Sales</th></tr>\n",
       "\t<tr><th></th><th scope=col>&lt;chr&gt;</th><th scope=col>&lt;dbl&gt;</th><th scope=col>&lt;chr&gt;</th><th scope=col>&lt;dbl&gt;</th><th scope=col>&lt;chr&gt;</th><th scope=col>&lt;dbl&gt;</th><th scope=col>&lt;chr&gt;</th><th scope=col>&lt;int&gt;</th><th scope=col>&lt;chr&gt;</th><th scope=col>&lt;chr&gt;</th><th scope=col>&lt;chr&gt;</th><th scope=col>&lt;dbl&gt;</th></tr>\n",
       "</thead>\n",
       "<tbody>\n",
       "\t<tr><th scope=row>1</th><td>FDA15</td><td> 9.30</td><td>Low Fat</td><td>0.01604730</td><td>Dairy                </td><td>249.8092</td><td>OUT049</td><td>1999</td><td>Medium</td><td>Tier 1</td><td>Supermarket Type1</td><td>3735.1380</td></tr>\n",
       "\t<tr><th scope=row>2</th><td>DRC01</td><td> 5.92</td><td>Regular</td><td>0.01927822</td><td>Soft Drinks          </td><td> 48.2692</td><td>OUT018</td><td>2009</td><td>Medium</td><td>Tier 3</td><td>Supermarket Type2</td><td> 443.4228</td></tr>\n",
       "\t<tr><th scope=row>3</th><td>FDN15</td><td>17.50</td><td>Low Fat</td><td>0.01676007</td><td>Meat                 </td><td>141.6180</td><td>OUT049</td><td>1999</td><td>Medium</td><td>Tier 1</td><td>Supermarket Type1</td><td>2097.2700</td></tr>\n",
       "\t<tr><th scope=row>4</th><td>FDX07</td><td>19.20</td><td>Regular</td><td>0.00000000</td><td>Fruits and Vegetables</td><td>182.0950</td><td>OUT010</td><td>1998</td><td>      </td><td>Tier 3</td><td>Grocery Store    </td><td> 732.3800</td></tr>\n",
       "\t<tr><th scope=row>5</th><td>NCD19</td><td> 8.93</td><td>Low Fat</td><td>0.00000000</td><td>Household            </td><td> 53.8614</td><td>OUT013</td><td>1987</td><td>High  </td><td>Tier 3</td><td>Supermarket Type1</td><td> 994.7052</td></tr>\n",
       "</tbody>\n",
       "</table>\n"
      ],
      "text/latex": [
       "A data.frame: 5 × 12\n",
       "\\begin{tabular}{r|llllllllllll}\n",
       "  & Item\\_Identifier & Item\\_Weight & Item\\_Fat\\_Content & Item\\_Visibility & Item\\_Type & Item\\_MRP & Outlet\\_Identifier & Outlet\\_Establishment\\_Year & Outlet\\_Size & Outlet\\_Location\\_Type & Outlet\\_Type & Item\\_Outlet\\_Sales\\\\\n",
       "  & <chr> & <dbl> & <chr> & <dbl> & <chr> & <dbl> & <chr> & <int> & <chr> & <chr> & <chr> & <dbl>\\\\\n",
       "\\hline\n",
       "\t1 & FDA15 &  9.30 & Low Fat & 0.01604730 & Dairy                 & 249.8092 & OUT049 & 1999 & Medium & Tier 1 & Supermarket Type1 & 3735.1380\\\\\n",
       "\t2 & DRC01 &  5.92 & Regular & 0.01927822 & Soft Drinks           &  48.2692 & OUT018 & 2009 & Medium & Tier 3 & Supermarket Type2 &  443.4228\\\\\n",
       "\t3 & FDN15 & 17.50 & Low Fat & 0.01676007 & Meat                  & 141.6180 & OUT049 & 1999 & Medium & Tier 1 & Supermarket Type1 & 2097.2700\\\\\n",
       "\t4 & FDX07 & 19.20 & Regular & 0.00000000 & Fruits and Vegetables & 182.0950 & OUT010 & 1998 &        & Tier 3 & Grocery Store     &  732.3800\\\\\n",
       "\t5 & NCD19 &  8.93 & Low Fat & 0.00000000 & Household             &  53.8614 & OUT013 & 1987 & High   & Tier 3 & Supermarket Type1 &  994.7052\\\\\n",
       "\\end{tabular}\n"
      ],
      "text/markdown": [
       "\n",
       "A data.frame: 5 × 12\n",
       "\n",
       "| <!--/--> | Item_Identifier &lt;chr&gt; | Item_Weight &lt;dbl&gt; | Item_Fat_Content &lt;chr&gt; | Item_Visibility &lt;dbl&gt; | Item_Type &lt;chr&gt; | Item_MRP &lt;dbl&gt; | Outlet_Identifier &lt;chr&gt; | Outlet_Establishment_Year &lt;int&gt; | Outlet_Size &lt;chr&gt; | Outlet_Location_Type &lt;chr&gt; | Outlet_Type &lt;chr&gt; | Item_Outlet_Sales &lt;dbl&gt; |\n",
       "|---|---|---|---|---|---|---|---|---|---|---|---|---|\n",
       "| 1 | FDA15 |  9.30 | Low Fat | 0.01604730 | Dairy                 | 249.8092 | OUT049 | 1999 | Medium | Tier 1 | Supermarket Type1 | 3735.1380 |\n",
       "| 2 | DRC01 |  5.92 | Regular | 0.01927822 | Soft Drinks           |  48.2692 | OUT018 | 2009 | Medium | Tier 3 | Supermarket Type2 |  443.4228 |\n",
       "| 3 | FDN15 | 17.50 | Low Fat | 0.01676007 | Meat                  | 141.6180 | OUT049 | 1999 | Medium | Tier 1 | Supermarket Type1 | 2097.2700 |\n",
       "| 4 | FDX07 | 19.20 | Regular | 0.00000000 | Fruits and Vegetables | 182.0950 | OUT010 | 1998 | <!----> | Tier 3 | Grocery Store     |  732.3800 |\n",
       "| 5 | NCD19 |  8.93 | Low Fat | 0.00000000 | Household             |  53.8614 | OUT013 | 1987 | High   | Tier 3 | Supermarket Type1 |  994.7052 |\n",
       "\n"
      ],
      "text/plain": [
       "  Item_Identifier Item_Weight Item_Fat_Content Item_Visibility\n",
       "1 FDA15            9.30       Low Fat          0.01604730     \n",
       "2 DRC01            5.92       Regular          0.01927822     \n",
       "3 FDN15           17.50       Low Fat          0.01676007     \n",
       "4 FDX07           19.20       Regular          0.00000000     \n",
       "5 NCD19            8.93       Low Fat          0.00000000     \n",
       "  Item_Type             Item_MRP Outlet_Identifier Outlet_Establishment_Year\n",
       "1 Dairy                 249.8092 OUT049            1999                     \n",
       "2 Soft Drinks            48.2692 OUT018            2009                     \n",
       "3 Meat                  141.6180 OUT049            1999                     \n",
       "4 Fruits and Vegetables 182.0950 OUT010            1998                     \n",
       "5 Household              53.8614 OUT013            1987                     \n",
       "  Outlet_Size Outlet_Location_Type Outlet_Type       Item_Outlet_Sales\n",
       "1 Medium      Tier 1               Supermarket Type1 3735.1380        \n",
       "2 Medium      Tier 3               Supermarket Type2  443.4228        \n",
       "3 Medium      Tier 1               Supermarket Type1 2097.2700        \n",
       "4             Tier 3               Grocery Store      732.3800        \n",
       "5 High        Tier 3               Supermarket Type1  994.7052        "
      ]
     },
     "metadata": {},
     "output_type": "display_data"
    }
   ],
   "source": [
    "df = read.csv(\"https://docs.google.com/spreadsheets/d/e/2PACX-1vRkIwH94EktrYdv19S1dFxJGuqxCb1kaXAwEKrePJOvMIlsq-bsf7OQiS4FKSgxwhb5Kb00BUFV1d14/pub?gid=834996468&single=true&output=csv\")\n",
    "head(df, 5)"
   ]
  },
  {
   "cell_type": "code",
   "execution_count": 4,
   "metadata": {
    "vscode": {
     "languageId": "r"
    }
   },
   "outputs": [
    {
     "data": {
      "text/plain": [
       " Item_Identifier     Item_Weight     Item_Fat_Content   Item_Visibility  \n",
       " Length:8523        Min.   : 4.555   Length:8523        Min.   :0.00000  \n",
       " Class :character   1st Qu.: 8.774   Class :character   1st Qu.:0.02699  \n",
       " Mode  :character   Median :12.600   Mode  :character   Median :0.05393  \n",
       "                    Mean   :12.858                      Mean   :0.06613  \n",
       "                    3rd Qu.:16.850                      3rd Qu.:0.09459  \n",
       "                    Max.   :21.350                      Max.   :0.32839  \n",
       "                    NA's   :1463                                         \n",
       "  Item_Type            Item_MRP      Outlet_Identifier \n",
       " Length:8523        Min.   : 31.29   Length:8523       \n",
       " Class :character   1st Qu.: 93.83   Class :character  \n",
       " Mode  :character   Median :143.01   Mode  :character  \n",
       "                    Mean   :140.99                     \n",
       "                    3rd Qu.:185.64                     \n",
       "                    Max.   :266.89                     \n",
       "                                                       \n",
       " Outlet_Establishment_Year Outlet_Size        Outlet_Location_Type\n",
       " Min.   :1985              Length:8523        Length:8523         \n",
       " 1st Qu.:1987              Class :character   Class :character    \n",
       " Median :1999              Mode  :character   Mode  :character    \n",
       " Mean   :1998                                                     \n",
       " 3rd Qu.:2004                                                     \n",
       " Max.   :2009                                                     \n",
       "                                                                  \n",
       " Outlet_Type        Item_Outlet_Sales \n",
       " Length:8523        Min.   :   33.29  \n",
       " Class :character   1st Qu.:  834.25  \n",
       " Mode  :character   Median : 1794.33  \n",
       "                    Mean   : 2181.29  \n",
       "                    3rd Qu.: 3101.30  \n",
       "                    Max.   :13086.97  \n",
       "                                      "
      ]
     },
     "metadata": {},
     "output_type": "display_data"
    }
   ],
   "source": [
    "summary(df)"
   ]
  },
  {
   "cell_type": "code",
   "execution_count": 7,
   "metadata": {
    "vscode": {
     "languageId": "r"
    }
   },
   "outputs": [
    {
     "data": {
      "text/html": [
       "<style>\n",
       ".list-inline {list-style: none; margin:0; padding: 0}\n",
       ".list-inline>li {display: inline-block}\n",
       ".list-inline>li:not(:last-child)::after {content: \"\\00b7\"; padding: 0 .5ex}\n",
       "</style>\n",
       "<ol class=list-inline><li>8523</li><li>12</li></ol>\n"
      ],
      "text/latex": [
       "\\begin{enumerate*}\n",
       "\\item 8523\n",
       "\\item 12\n",
       "\\end{enumerate*}\n"
      ],
      "text/markdown": [
       "1. 8523\n",
       "2. 12\n",
       "\n",
       "\n"
      ],
      "text/plain": [
       "[1] 8523   12"
      ]
     },
     "metadata": {},
     "output_type": "display_data"
    },
    {
     "data": {
      "text/html": [
       "12"
      ],
      "text/latex": [
       "12"
      ],
      "text/markdown": [
       "12"
      ],
      "text/plain": [
       "[1] 12"
      ]
     },
     "metadata": {},
     "output_type": "display_data"
    }
   ],
   "source": [
    "dim(df)\n",
    "length(df)"
   ]
  },
  {
   "cell_type": "code",
   "execution_count": 9,
   "metadata": {
    "vscode": {
     "languageId": "r"
    }
   },
   "outputs": [
    {
     "data": {
      "text/html": [
       "0"
      ],
      "text/latex": [
       "0"
      ],
      "text/markdown": [
       "0"
      ],
      "text/plain": [
       "[1] 0"
      ]
     },
     "metadata": {},
     "output_type": "display_data"
    }
   ],
   "source": [
    "anyDuplicated(df)"
   ]
  },
  {
   "cell_type": "code",
   "execution_count": 16,
   "metadata": {
    "vscode": {
     "languageId": "r"
    }
   },
   "outputs": [
    {
     "data": {
      "text/html": [
       "'Item_Weight'"
      ],
      "text/latex": [
       "'Item\\_Weight'"
      ],
      "text/markdown": [
       "'Item_Weight'"
      ],
      "text/plain": [
       "[1] \"Item_Weight\""
      ]
     },
     "metadata": {},
     "output_type": "display_data"
    }
   ],
   "source": [
    "colnames(df)[colSums(is.na(df)) > 0]"
   ]
  }
 ],
 "metadata": {
  "kernelspec": {
   "display_name": "R",
   "language": "R",
   "name": "ir"
  },
  "language_info": {
   "codemirror_mode": "r",
   "file_extension": ".r",
   "mimetype": "text/x-r-source",
   "name": "R",
   "pygments_lexer": "r",
   "version": "4.2.2"
  },
  "orig_nbformat": 4
 },
 "nbformat": 4,
 "nbformat_minor": 2
}
